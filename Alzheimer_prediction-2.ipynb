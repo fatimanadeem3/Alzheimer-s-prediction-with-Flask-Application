{
 "cells": [
  {
   "cell_type": "markdown",
   "id": "be4fbf6a-e4c2-47e3-841a-403336552419",
   "metadata": {},
   "source": [
    "Libraries Used For Alzheimer Prediction"
   ]
  },
  {
   "cell_type": "code",
   "execution_count": 1,
   "id": "8163b769-fccb-4ff2-8a63-2d96912f3117",
   "metadata": {},
   "outputs": [],
   "source": [
    "import pandas as pd\n",
    "import numpy as np\n",
    "import pickle\n",
    "from sklearn.preprocessing import LabelEncoder, StandardScaler\n",
    "from sklearn.preprocessing import LabelEncoder, StandardScaler\n",
    "from sklearn.model_selection import train_test_split\n",
    "from sklearn.svm import SVC\n",
    "from sklearn.metrics import accuracy_score"
   ]
  },
  {
   "cell_type": "markdown",
   "id": "ad0f0dc5-36ff-470f-83bb-f152f62d6e56",
   "metadata": {},
   "source": [
    "Loading data from csv dataset"
   ]
  },
  {
   "cell_type": "code",
   "execution_count": 2,
   "id": "a47419dc-a075-4af7-b40f-5e23ef2021a7",
   "metadata": {},
   "outputs": [],
   "source": [
    "df=pd.read_csv(\"alzheimers_prediction_dataset.csv\")"
   ]
  },
  {
   "cell_type": "code",
   "execution_count": 3,
   "id": "6ceadf25-db78-4e2b-b715-217829e53885",
   "metadata": {},
   "outputs": [
    {
     "data": {
      "text/html": [
       "<div>\n",
       "<style scoped>\n",
       "    .dataframe tbody tr th:only-of-type {\n",
       "        vertical-align: middle;\n",
       "    }\n",
       "\n",
       "    .dataframe tbody tr th {\n",
       "        vertical-align: top;\n",
       "    }\n",
       "\n",
       "    .dataframe thead th {\n",
       "        text-align: right;\n",
       "    }\n",
       "</style>\n",
       "<table border=\"1\" class=\"dataframe\">\n",
       "  <thead>\n",
       "    <tr style=\"text-align: right;\">\n",
       "      <th></th>\n",
       "      <th>Country</th>\n",
       "      <th>Age</th>\n",
       "      <th>Gender</th>\n",
       "      <th>Education Level</th>\n",
       "      <th>BMI</th>\n",
       "      <th>Physical Activity Level</th>\n",
       "      <th>Smoking Status</th>\n",
       "      <th>Alcohol Consumption</th>\n",
       "      <th>Diabetes</th>\n",
       "      <th>Hypertension</th>\n",
       "      <th>...</th>\n",
       "      <th>Dietary Habits</th>\n",
       "      <th>Air Pollution Exposure</th>\n",
       "      <th>Employment Status</th>\n",
       "      <th>Marital Status</th>\n",
       "      <th>Genetic Risk Factor (APOE-ε4 allele)</th>\n",
       "      <th>Social Engagement Level</th>\n",
       "      <th>Income Level</th>\n",
       "      <th>Stress Levels</th>\n",
       "      <th>Urban vs Rural Living</th>\n",
       "      <th>Alzheimer’s Diagnosis</th>\n",
       "    </tr>\n",
       "  </thead>\n",
       "  <tbody>\n",
       "    <tr>\n",
       "      <th>0</th>\n",
       "      <td>Spain</td>\n",
       "      <td>90</td>\n",
       "      <td>Male</td>\n",
       "      <td>1</td>\n",
       "      <td>33.0</td>\n",
       "      <td>Medium</td>\n",
       "      <td>Never</td>\n",
       "      <td>Occasionally</td>\n",
       "      <td>No</td>\n",
       "      <td>No</td>\n",
       "      <td>...</td>\n",
       "      <td>Healthy</td>\n",
       "      <td>High</td>\n",
       "      <td>Retired</td>\n",
       "      <td>Single</td>\n",
       "      <td>No</td>\n",
       "      <td>Low</td>\n",
       "      <td>Medium</td>\n",
       "      <td>High</td>\n",
       "      <td>Urban</td>\n",
       "      <td>No</td>\n",
       "    </tr>\n",
       "    <tr>\n",
       "      <th>1</th>\n",
       "      <td>Argentina</td>\n",
       "      <td>72</td>\n",
       "      <td>Male</td>\n",
       "      <td>7</td>\n",
       "      <td>29.9</td>\n",
       "      <td>Medium</td>\n",
       "      <td>Former</td>\n",
       "      <td>Never</td>\n",
       "      <td>No</td>\n",
       "      <td>No</td>\n",
       "      <td>...</td>\n",
       "      <td>Healthy</td>\n",
       "      <td>Medium</td>\n",
       "      <td>Unemployed</td>\n",
       "      <td>Widowed</td>\n",
       "      <td>No</td>\n",
       "      <td>High</td>\n",
       "      <td>Low</td>\n",
       "      <td>High</td>\n",
       "      <td>Urban</td>\n",
       "      <td>No</td>\n",
       "    </tr>\n",
       "    <tr>\n",
       "      <th>2</th>\n",
       "      <td>South Africa</td>\n",
       "      <td>86</td>\n",
       "      <td>Female</td>\n",
       "      <td>19</td>\n",
       "      <td>22.9</td>\n",
       "      <td>High</td>\n",
       "      <td>Current</td>\n",
       "      <td>Occasionally</td>\n",
       "      <td>No</td>\n",
       "      <td>Yes</td>\n",
       "      <td>...</td>\n",
       "      <td>Average</td>\n",
       "      <td>Medium</td>\n",
       "      <td>Employed</td>\n",
       "      <td>Single</td>\n",
       "      <td>No</td>\n",
       "      <td>Low</td>\n",
       "      <td>Medium</td>\n",
       "      <td>High</td>\n",
       "      <td>Rural</td>\n",
       "      <td>No</td>\n",
       "    </tr>\n",
       "    <tr>\n",
       "      <th>3</th>\n",
       "      <td>China</td>\n",
       "      <td>53</td>\n",
       "      <td>Male</td>\n",
       "      <td>17</td>\n",
       "      <td>31.2</td>\n",
       "      <td>Low</td>\n",
       "      <td>Never</td>\n",
       "      <td>Regularly</td>\n",
       "      <td>Yes</td>\n",
       "      <td>No</td>\n",
       "      <td>...</td>\n",
       "      <td>Healthy</td>\n",
       "      <td>Medium</td>\n",
       "      <td>Retired</td>\n",
       "      <td>Single</td>\n",
       "      <td>No</td>\n",
       "      <td>High</td>\n",
       "      <td>Medium</td>\n",
       "      <td>Low</td>\n",
       "      <td>Rural</td>\n",
       "      <td>No</td>\n",
       "    </tr>\n",
       "    <tr>\n",
       "      <th>4</th>\n",
       "      <td>Sweden</td>\n",
       "      <td>58</td>\n",
       "      <td>Female</td>\n",
       "      <td>3</td>\n",
       "      <td>30.0</td>\n",
       "      <td>High</td>\n",
       "      <td>Former</td>\n",
       "      <td>Never</td>\n",
       "      <td>Yes</td>\n",
       "      <td>No</td>\n",
       "      <td>...</td>\n",
       "      <td>Unhealthy</td>\n",
       "      <td>High</td>\n",
       "      <td>Employed</td>\n",
       "      <td>Married</td>\n",
       "      <td>No</td>\n",
       "      <td>Low</td>\n",
       "      <td>Medium</td>\n",
       "      <td>High</td>\n",
       "      <td>Rural</td>\n",
       "      <td>No</td>\n",
       "    </tr>\n",
       "  </tbody>\n",
       "</table>\n",
       "<p>5 rows × 25 columns</p>\n",
       "</div>"
      ],
      "text/plain": [
       "        Country  Age  Gender  Education Level   BMI Physical Activity Level  \\\n",
       "0         Spain   90    Male                1  33.0                  Medium   \n",
       "1     Argentina   72    Male                7  29.9                  Medium   \n",
       "2  South Africa   86  Female               19  22.9                    High   \n",
       "3         China   53    Male               17  31.2                     Low   \n",
       "4        Sweden   58  Female                3  30.0                    High   \n",
       "\n",
       "  Smoking Status Alcohol Consumption Diabetes Hypertension  ...  \\\n",
       "0          Never        Occasionally       No           No  ...   \n",
       "1         Former               Never       No           No  ...   \n",
       "2        Current        Occasionally       No          Yes  ...   \n",
       "3          Never           Regularly      Yes           No  ...   \n",
       "4         Former               Never      Yes           No  ...   \n",
       "\n",
       "  Dietary Habits Air Pollution Exposure  Employment Status Marital Status  \\\n",
       "0        Healthy                   High            Retired         Single   \n",
       "1        Healthy                 Medium         Unemployed        Widowed   \n",
       "2        Average                 Medium           Employed         Single   \n",
       "3        Healthy                 Medium            Retired         Single   \n",
       "4      Unhealthy                   High           Employed        Married   \n",
       "\n",
       "  Genetic Risk Factor (APOE-ε4 allele) Social Engagement Level Income Level  \\\n",
       "0                                   No                     Low       Medium   \n",
       "1                                   No                    High          Low   \n",
       "2                                   No                     Low       Medium   \n",
       "3                                   No                    High       Medium   \n",
       "4                                   No                     Low       Medium   \n",
       "\n",
       "  Stress Levels Urban vs Rural Living Alzheimer’s Diagnosis  \n",
       "0          High                 Urban                    No  \n",
       "1          High                 Urban                    No  \n",
       "2          High                 Rural                    No  \n",
       "3           Low                 Rural                    No  \n",
       "4          High                 Rural                    No  \n",
       "\n",
       "[5 rows x 25 columns]"
      ]
     },
     "execution_count": 3,
     "metadata": {},
     "output_type": "execute_result"
    }
   ],
   "source": [
    "df_head = df.head()\n",
    "df_head"
   ]
  },
  {
   "cell_type": "markdown",
   "id": "b2cb599c-b944-4fa0-8b7c-f2fa2fe27fb5",
   "metadata": {},
   "source": [
    "alyzing data"
   ]
  },
  {
   "cell_type": "code",
   "execution_count": 4,
   "id": "e36ded93-2d8f-41f0-a006-463849b9cb15",
   "metadata": {},
   "outputs": [
    {
     "name": "stdout",
     "output_type": "stream",
     "text": [
      "<class 'pandas.core.frame.DataFrame'>\n",
      "RangeIndex: 74283 entries, 0 to 74282\n",
      "Data columns (total 25 columns):\n",
      " #   Column                                Non-Null Count  Dtype  \n",
      "---  ------                                --------------  -----  \n",
      " 0   Country                               74283 non-null  object \n",
      " 1   Age                                   74283 non-null  int64  \n",
      " 2   Gender                                74283 non-null  object \n",
      " 3   Education Level                       74283 non-null  int64  \n",
      " 4   BMI                                   74283 non-null  float64\n",
      " 5   Physical Activity Level               74283 non-null  object \n",
      " 6   Smoking Status                        74283 non-null  object \n",
      " 7   Alcohol Consumption                   74283 non-null  object \n",
      " 8   Diabetes                              74283 non-null  object \n",
      " 9   Hypertension                          74283 non-null  object \n",
      " 10  Cholesterol Level                     74283 non-null  object \n",
      " 11  Family History of Alzheimer’s         74283 non-null  object \n",
      " 12  Cognitive Test Score                  74283 non-null  int64  \n",
      " 13  Depression Level                      74283 non-null  object \n",
      " 14  Sleep Quality                         74283 non-null  object \n",
      " 15  Dietary Habits                        74283 non-null  object \n",
      " 16  Air Pollution Exposure                74283 non-null  object \n",
      " 17  Employment Status                     74283 non-null  object \n",
      " 18  Marital Status                        74283 non-null  object \n",
      " 19  Genetic Risk Factor (APOE-ε4 allele)  74283 non-null  object \n",
      " 20  Social Engagement Level               74283 non-null  object \n",
      " 21  Income Level                          74283 non-null  object \n",
      " 22  Stress Levels                         74283 non-null  object \n",
      " 23  Urban vs Rural Living                 74283 non-null  object \n",
      " 24  Alzheimer’s Diagnosis                 74283 non-null  object \n",
      "dtypes: float64(1), int64(3), object(21)\n",
      "memory usage: 14.2+ MB\n"
     ]
    }
   ],
   "source": [
    "df_info = df.info()\n",
    "df_info"
   ]
  },
  {
   "cell_type": "code",
   "execution_count": 5,
   "id": "f41f1c73-a6ff-4aca-8f8b-94643de82628",
   "metadata": {},
   "outputs": [
    {
     "data": {
      "text/html": [
       "<div>\n",
       "<style scoped>\n",
       "    .dataframe tbody tr th:only-of-type {\n",
       "        vertical-align: middle;\n",
       "    }\n",
       "\n",
       "    .dataframe tbody tr th {\n",
       "        vertical-align: top;\n",
       "    }\n",
       "\n",
       "    .dataframe thead th {\n",
       "        text-align: right;\n",
       "    }\n",
       "</style>\n",
       "<table border=\"1\" class=\"dataframe\">\n",
       "  <thead>\n",
       "    <tr style=\"text-align: right;\">\n",
       "      <th></th>\n",
       "      <th>Age</th>\n",
       "      <th>Education Level</th>\n",
       "      <th>BMI</th>\n",
       "      <th>Cognitive Test Score</th>\n",
       "    </tr>\n",
       "  </thead>\n",
       "  <tbody>\n",
       "    <tr>\n",
       "      <th>count</th>\n",
       "      <td>74283.000000</td>\n",
       "      <td>74283.000000</td>\n",
       "      <td>74283.000000</td>\n",
       "      <td>74283.000000</td>\n",
       "    </tr>\n",
       "    <tr>\n",
       "      <th>mean</th>\n",
       "      <td>71.964703</td>\n",
       "      <td>9.487514</td>\n",
       "      <td>26.780639</td>\n",
       "      <td>64.654241</td>\n",
       "    </tr>\n",
       "    <tr>\n",
       "      <th>std</th>\n",
       "      <td>12.980748</td>\n",
       "      <td>5.757020</td>\n",
       "      <td>4.764679</td>\n",
       "      <td>20.153247</td>\n",
       "    </tr>\n",
       "    <tr>\n",
       "      <th>min</th>\n",
       "      <td>50.000000</td>\n",
       "      <td>0.000000</td>\n",
       "      <td>18.500000</td>\n",
       "      <td>30.000000</td>\n",
       "    </tr>\n",
       "    <tr>\n",
       "      <th>25%</th>\n",
       "      <td>61.000000</td>\n",
       "      <td>4.000000</td>\n",
       "      <td>22.700000</td>\n",
       "      <td>47.000000</td>\n",
       "    </tr>\n",
       "    <tr>\n",
       "      <th>50%</th>\n",
       "      <td>72.000000</td>\n",
       "      <td>9.000000</td>\n",
       "      <td>26.800000</td>\n",
       "      <td>65.000000</td>\n",
       "    </tr>\n",
       "    <tr>\n",
       "      <th>75%</th>\n",
       "      <td>83.000000</td>\n",
       "      <td>14.000000</td>\n",
       "      <td>30.900000</td>\n",
       "      <td>82.000000</td>\n",
       "    </tr>\n",
       "    <tr>\n",
       "      <th>max</th>\n",
       "      <td>94.000000</td>\n",
       "      <td>19.000000</td>\n",
       "      <td>35.000000</td>\n",
       "      <td>99.000000</td>\n",
       "    </tr>\n",
       "  </tbody>\n",
       "</table>\n",
       "</div>"
      ],
      "text/plain": [
       "                Age  Education Level           BMI  Cognitive Test Score\n",
       "count  74283.000000     74283.000000  74283.000000          74283.000000\n",
       "mean      71.964703         9.487514     26.780639             64.654241\n",
       "std       12.980748         5.757020      4.764679             20.153247\n",
       "min       50.000000         0.000000     18.500000             30.000000\n",
       "25%       61.000000         4.000000     22.700000             47.000000\n",
       "50%       72.000000         9.000000     26.800000             65.000000\n",
       "75%       83.000000        14.000000     30.900000             82.000000\n",
       "max       94.000000        19.000000     35.000000             99.000000"
      ]
     },
     "execution_count": 5,
     "metadata": {},
     "output_type": "execute_result"
    }
   ],
   "source": [
    "df.describe()"
   ]
  },
  {
   "cell_type": "code",
   "execution_count": 6,
   "id": "b5d1f234-c45a-40ec-85c6-f3bdf59e93c4",
   "metadata": {},
   "outputs": [
    {
     "data": {
      "text/plain": [
       "Country                                 74283\n",
       "Age                                     74283\n",
       "Gender                                  74283\n",
       "Education Level                         74283\n",
       "BMI                                     74283\n",
       "Physical Activity Level                 74283\n",
       "Smoking Status                          74283\n",
       "Alcohol Consumption                     74283\n",
       "Diabetes                                74283\n",
       "Hypertension                            74283\n",
       "Cholesterol Level                       74283\n",
       "Family History of Alzheimer’s           74283\n",
       "Cognitive Test Score                    74283\n",
       "Depression Level                        74283\n",
       "Sleep Quality                           74283\n",
       "Dietary Habits                          74283\n",
       "Air Pollution Exposure                  74283\n",
       "Employment Status                       74283\n",
       "Marital Status                          74283\n",
       "Genetic Risk Factor (APOE-ε4 allele)    74283\n",
       "Social Engagement Level                 74283\n",
       "Income Level                            74283\n",
       "Stress Levels                           74283\n",
       "Urban vs Rural Living                   74283\n",
       "Alzheimer’s Diagnosis                   74283\n",
       "dtype: int64"
      ]
     },
     "execution_count": 6,
     "metadata": {},
     "output_type": "execute_result"
    }
   ],
   "source": [
    "df.count()"
   ]
  },
  {
   "cell_type": "code",
   "execution_count": 7,
   "id": "d2aef140-c863-4e92-8820-2450a4e56027",
   "metadata": {},
   "outputs": [
    {
     "data": {
      "text/plain": [
       "Country                                  20\n",
       "Age                                      45\n",
       "Gender                                    2\n",
       "Education Level                          20\n",
       "BMI                                     166\n",
       "Physical Activity Level                   3\n",
       "Smoking Status                            3\n",
       "Alcohol Consumption                       3\n",
       "Diabetes                                  2\n",
       "Hypertension                              2\n",
       "Cholesterol Level                         2\n",
       "Family History of Alzheimer’s             2\n",
       "Cognitive Test Score                     70\n",
       "Depression Level                          3\n",
       "Sleep Quality                             3\n",
       "Dietary Habits                            3\n",
       "Air Pollution Exposure                    3\n",
       "Employment Status                         3\n",
       "Marital Status                            3\n",
       "Genetic Risk Factor (APOE-ε4 allele)      2\n",
       "Social Engagement Level                   3\n",
       "Income Level                              3\n",
       "Stress Levels                             3\n",
       "Urban vs Rural Living                     2\n",
       "Alzheimer’s Diagnosis                     2\n",
       "dtype: int64"
      ]
     },
     "execution_count": 7,
     "metadata": {},
     "output_type": "execute_result"
    }
   ],
   "source": [
    "df.nunique()"
   ]
  },
  {
   "cell_type": "code",
   "execution_count": 8,
   "id": "1fe9011f-01a6-4cfe-a8e3-093a5694e9f0",
   "metadata": {},
   "outputs": [
    {
     "data": {
      "text/plain": [
       "Country                                 0\n",
       "Age                                     0\n",
       "Gender                                  0\n",
       "Education Level                         0\n",
       "BMI                                     0\n",
       "Physical Activity Level                 0\n",
       "Smoking Status                          0\n",
       "Alcohol Consumption                     0\n",
       "Diabetes                                0\n",
       "Hypertension                            0\n",
       "Cholesterol Level                       0\n",
       "Family History of Alzheimer’s           0\n",
       "Cognitive Test Score                    0\n",
       "Depression Level                        0\n",
       "Sleep Quality                           0\n",
       "Dietary Habits                          0\n",
       "Air Pollution Exposure                  0\n",
       "Employment Status                       0\n",
       "Marital Status                          0\n",
       "Genetic Risk Factor (APOE-ε4 allele)    0\n",
       "Social Engagement Level                 0\n",
       "Income Level                            0\n",
       "Stress Levels                           0\n",
       "Urban vs Rural Living                   0\n",
       "Alzheimer’s Diagnosis                   0\n",
       "dtype: int64"
      ]
     },
     "execution_count": 8,
     "metadata": {},
     "output_type": "execute_result"
    }
   ],
   "source": [
    "df.isnull().sum()"
   ]
  },
  {
   "cell_type": "markdown",
   "id": "3b328ca7-b35e-460f-aae2-c945fddd2dc9",
   "metadata": {},
   "source": [
    "Converting the types \n"
   ]
  },
  {
   "cell_type": "code",
   "execution_count": 9,
   "id": "362ffb30-130b-42e2-a9e4-7543c6739213",
   "metadata": {},
   "outputs": [],
   "source": [
    "df['BMI'] = df['BMI'].astype('int64')"
   ]
  },
  {
   "cell_type": "code",
   "execution_count": 10,
   "id": "1706a8be-20a9-4526-9ea7-5e49d76ecb24",
   "metadata": {},
   "outputs": [
    {
     "data": {
      "text/plain": [
       "['Country',\n",
       " 'Age',\n",
       " 'Gender',\n",
       " 'Education Level',\n",
       " 'BMI',\n",
       " 'Physical Activity Level',\n",
       " 'Smoking Status',\n",
       " 'Alcohol Consumption',\n",
       " 'Diabetes',\n",
       " 'Hypertension',\n",
       " 'Cholesterol Level',\n",
       " 'Family History of Alzheimer’s',\n",
       " 'Cognitive Test Score',\n",
       " 'Depression Level',\n",
       " 'Sleep Quality',\n",
       " 'Dietary Habits',\n",
       " 'Air Pollution Exposure',\n",
       " 'Employment Status',\n",
       " 'Marital Status',\n",
       " 'Genetic Risk Factor (APOE-ε4 allele)',\n",
       " 'Social Engagement Level',\n",
       " 'Income Level',\n",
       " 'Stress Levels',\n",
       " 'Urban vs Rural Living',\n",
       " 'Alzheimer’s Diagnosis']"
      ]
     },
     "execution_count": 10,
     "metadata": {},
     "output_type": "execute_result"
    }
   ],
   "source": [
    "df.columns.to_list()\n"
   ]
  },
  {
   "cell_type": "code",
   "execution_count": 11,
   "id": "02816156-8c3c-454f-819f-61dc825e8a5f",
   "metadata": {},
   "outputs": [],
   "source": [
    "def dataEncoder(cols):\n",
    "    for i in cols:\n",
    "         dataLabelEncoder = LabelEncoder()\n",
    "         df[i] = dataLabelEncoder.fit_transform(df[i])\n",
    "\n",
    "columns = ['Country',\n",
    " 'Age',\n",
    " 'Gender',\n",
    " 'Education Level',\n",
    " 'BMI',\n",
    " 'Physical Activity Level',\n",
    " 'Smoking Status',\n",
    " 'Alcohol Consumption',\n",
    " 'Diabetes',\n",
    " 'Hypertension',\n",
    " 'Cholesterol Level',\n",
    " 'Family History of Alzheimer’s',\n",
    " 'Cognitive Test Score',\n",
    " 'Depression Level',\n",
    " 'Sleep Quality',\n",
    " 'Dietary Habits',\n",
    " 'Air Pollution Exposure',\n",
    " 'Employment Status',\n",
    " 'Marital Status',\n",
    " 'Genetic Risk Factor (APOE-ε4 allele)',\n",
    " 'Social Engagement Level',\n",
    " 'Income Level',\n",
    " 'Stress Levels',\n",
    " 'Urban vs Rural Living',\n",
    " 'Alzheimer’s Diagnosis']\n",
    "dataEncoder(columns)"
   ]
  },
  {
   "cell_type": "code",
   "execution_count": 12,
   "id": "826564bd-cfbb-4500-965b-4255defad16d",
   "metadata": {},
   "outputs": [
    {
     "name": "stdout",
     "output_type": "stream",
     "text": [
      "<class 'pandas.core.frame.DataFrame'>\n",
      "RangeIndex: 74283 entries, 0 to 74282\n",
      "Data columns (total 25 columns):\n",
      " #   Column                                Non-Null Count  Dtype\n",
      "---  ------                                --------------  -----\n",
      " 0   Country                               74283 non-null  int64\n",
      " 1   Age                                   74283 non-null  int64\n",
      " 2   Gender                                74283 non-null  int64\n",
      " 3   Education Level                       74283 non-null  int64\n",
      " 4   BMI                                   74283 non-null  int64\n",
      " 5   Physical Activity Level               74283 non-null  int64\n",
      " 6   Smoking Status                        74283 non-null  int64\n",
      " 7   Alcohol Consumption                   74283 non-null  int64\n",
      " 8   Diabetes                              74283 non-null  int64\n",
      " 9   Hypertension                          74283 non-null  int64\n",
      " 10  Cholesterol Level                     74283 non-null  int64\n",
      " 11  Family History of Alzheimer’s         74283 non-null  int64\n",
      " 12  Cognitive Test Score                  74283 non-null  int64\n",
      " 13  Depression Level                      74283 non-null  int64\n",
      " 14  Sleep Quality                         74283 non-null  int64\n",
      " 15  Dietary Habits                        74283 non-null  int64\n",
      " 16  Air Pollution Exposure                74283 non-null  int64\n",
      " 17  Employment Status                     74283 non-null  int64\n",
      " 18  Marital Status                        74283 non-null  int64\n",
      " 19  Genetic Risk Factor (APOE-ε4 allele)  74283 non-null  int64\n",
      " 20  Social Engagement Level               74283 non-null  int64\n",
      " 21  Income Level                          74283 non-null  int64\n",
      " 22  Stress Levels                         74283 non-null  int64\n",
      " 23  Urban vs Rural Living                 74283 non-null  int64\n",
      " 24  Alzheimer’s Diagnosis                 74283 non-null  int64\n",
      "dtypes: int64(25)\n",
      "memory usage: 14.2 MB\n"
     ]
    }
   ],
   "source": [
    "df.info()"
   ]
  },
  {
   "cell_type": "code",
   "execution_count": 13,
   "id": "ef100ff3-6730-4286-bcff-0b2bc58bcf27",
   "metadata": {},
   "outputs": [
    {
     "data": {
      "text/plain": [
       "Country                                 0.0\n",
       "Age                                     0.0\n",
       "Gender                                  0.0\n",
       "Education Level                         0.0\n",
       "BMI                                     0.0\n",
       "Physical Activity Level                 0.0\n",
       "Smoking Status                          0.0\n",
       "Alcohol Consumption                     0.0\n",
       "Diabetes                                0.0\n",
       "Hypertension                            0.0\n",
       "Cholesterol Level                       0.0\n",
       "Family History of Alzheimer’s           0.0\n",
       "Cognitive Test Score                    0.0\n",
       "Depression Level                        0.0\n",
       "Sleep Quality                           0.0\n",
       "Dietary Habits                          0.0\n",
       "Air Pollution Exposure                  0.0\n",
       "Employment Status                       0.0\n",
       "Marital Status                          0.0\n",
       "Genetic Risk Factor (APOE-ε4 allele)    0.0\n",
       "Social Engagement Level                 0.0\n",
       "Income Level                            0.0\n",
       "Stress Levels                           0.0\n",
       "Urban vs Rural Living                   0.0\n",
       "Alzheimer’s Diagnosis                   0.0\n",
       "dtype: float64"
      ]
     },
     "execution_count": 13,
     "metadata": {},
     "output_type": "execute_result"
    }
   ],
   "source": [
    "df.isnull().mean() * 100"
   ]
  },
  {
   "cell_type": "code",
   "execution_count": 14,
   "id": "f5d5a4e3-2612-47d7-9527-cbf3e5ecdca3",
   "metadata": {},
   "outputs": [
    {
     "data": {
      "text/html": [
       "<div>\n",
       "<style scoped>\n",
       "    .dataframe tbody tr th:only-of-type {\n",
       "        vertical-align: middle;\n",
       "    }\n",
       "\n",
       "    .dataframe tbody tr th {\n",
       "        vertical-align: top;\n",
       "    }\n",
       "\n",
       "    .dataframe thead th {\n",
       "        text-align: right;\n",
       "    }\n",
       "</style>\n",
       "<table border=\"1\" class=\"dataframe\">\n",
       "  <thead>\n",
       "    <tr style=\"text-align: right;\">\n",
       "      <th></th>\n",
       "      <th>Country</th>\n",
       "      <th>Age</th>\n",
       "      <th>Gender</th>\n",
       "      <th>Education Level</th>\n",
       "      <th>BMI</th>\n",
       "      <th>Physical Activity Level</th>\n",
       "      <th>Smoking Status</th>\n",
       "      <th>Alcohol Consumption</th>\n",
       "      <th>Diabetes</th>\n",
       "      <th>Hypertension</th>\n",
       "      <th>...</th>\n",
       "      <th>Dietary Habits</th>\n",
       "      <th>Air Pollution Exposure</th>\n",
       "      <th>Employment Status</th>\n",
       "      <th>Marital Status</th>\n",
       "      <th>Genetic Risk Factor (APOE-ε4 allele)</th>\n",
       "      <th>Social Engagement Level</th>\n",
       "      <th>Income Level</th>\n",
       "      <th>Stress Levels</th>\n",
       "      <th>Urban vs Rural Living</th>\n",
       "      <th>Alzheimer’s Diagnosis</th>\n",
       "    </tr>\n",
       "  </thead>\n",
       "  <tbody>\n",
       "    <tr>\n",
       "      <th>0</th>\n",
       "      <td>16</td>\n",
       "      <td>40</td>\n",
       "      <td>1</td>\n",
       "      <td>1</td>\n",
       "      <td>15</td>\n",
       "      <td>2</td>\n",
       "      <td>2</td>\n",
       "      <td>1</td>\n",
       "      <td>0</td>\n",
       "      <td>0</td>\n",
       "      <td>...</td>\n",
       "      <td>1</td>\n",
       "      <td>0</td>\n",
       "      <td>1</td>\n",
       "      <td>1</td>\n",
       "      <td>0</td>\n",
       "      <td>1</td>\n",
       "      <td>2</td>\n",
       "      <td>0</td>\n",
       "      <td>1</td>\n",
       "      <td>0</td>\n",
       "    </tr>\n",
       "    <tr>\n",
       "      <th>1</th>\n",
       "      <td>0</td>\n",
       "      <td>22</td>\n",
       "      <td>1</td>\n",
       "      <td>7</td>\n",
       "      <td>11</td>\n",
       "      <td>2</td>\n",
       "      <td>1</td>\n",
       "      <td>0</td>\n",
       "      <td>0</td>\n",
       "      <td>0</td>\n",
       "      <td>...</td>\n",
       "      <td>1</td>\n",
       "      <td>2</td>\n",
       "      <td>2</td>\n",
       "      <td>2</td>\n",
       "      <td>0</td>\n",
       "      <td>0</td>\n",
       "      <td>1</td>\n",
       "      <td>0</td>\n",
       "      <td>1</td>\n",
       "      <td>0</td>\n",
       "    </tr>\n",
       "    <tr>\n",
       "      <th>2</th>\n",
       "      <td>14</td>\n",
       "      <td>36</td>\n",
       "      <td>0</td>\n",
       "      <td>19</td>\n",
       "      <td>4</td>\n",
       "      <td>0</td>\n",
       "      <td>0</td>\n",
       "      <td>1</td>\n",
       "      <td>0</td>\n",
       "      <td>1</td>\n",
       "      <td>...</td>\n",
       "      <td>0</td>\n",
       "      <td>2</td>\n",
       "      <td>0</td>\n",
       "      <td>1</td>\n",
       "      <td>0</td>\n",
       "      <td>1</td>\n",
       "      <td>2</td>\n",
       "      <td>0</td>\n",
       "      <td>0</td>\n",
       "      <td>0</td>\n",
       "    </tr>\n",
       "    <tr>\n",
       "      <th>3</th>\n",
       "      <td>4</td>\n",
       "      <td>3</td>\n",
       "      <td>1</td>\n",
       "      <td>17</td>\n",
       "      <td>13</td>\n",
       "      <td>1</td>\n",
       "      <td>2</td>\n",
       "      <td>2</td>\n",
       "      <td>1</td>\n",
       "      <td>0</td>\n",
       "      <td>...</td>\n",
       "      <td>1</td>\n",
       "      <td>2</td>\n",
       "      <td>1</td>\n",
       "      <td>1</td>\n",
       "      <td>0</td>\n",
       "      <td>0</td>\n",
       "      <td>2</td>\n",
       "      <td>1</td>\n",
       "      <td>0</td>\n",
       "      <td>0</td>\n",
       "    </tr>\n",
       "    <tr>\n",
       "      <th>4</th>\n",
       "      <td>17</td>\n",
       "      <td>8</td>\n",
       "      <td>0</td>\n",
       "      <td>3</td>\n",
       "      <td>12</td>\n",
       "      <td>0</td>\n",
       "      <td>1</td>\n",
       "      <td>0</td>\n",
       "      <td>1</td>\n",
       "      <td>0</td>\n",
       "      <td>...</td>\n",
       "      <td>2</td>\n",
       "      <td>0</td>\n",
       "      <td>0</td>\n",
       "      <td>0</td>\n",
       "      <td>0</td>\n",
       "      <td>1</td>\n",
       "      <td>2</td>\n",
       "      <td>0</td>\n",
       "      <td>0</td>\n",
       "      <td>0</td>\n",
       "    </tr>\n",
       "  </tbody>\n",
       "</table>\n",
       "<p>5 rows × 25 columns</p>\n",
       "</div>"
      ],
      "text/plain": [
       "   Country  Age  Gender  Education Level  BMI  Physical Activity Level  \\\n",
       "0       16   40       1                1   15                        2   \n",
       "1        0   22       1                7   11                        2   \n",
       "2       14   36       0               19    4                        0   \n",
       "3        4    3       1               17   13                        1   \n",
       "4       17    8       0                3   12                        0   \n",
       "\n",
       "   Smoking Status  Alcohol Consumption  Diabetes  Hypertension  ...  \\\n",
       "0               2                    1         0             0  ...   \n",
       "1               1                    0         0             0  ...   \n",
       "2               0                    1         0             1  ...   \n",
       "3               2                    2         1             0  ...   \n",
       "4               1                    0         1             0  ...   \n",
       "\n",
       "   Dietary Habits  Air Pollution Exposure  Employment Status  Marital Status  \\\n",
       "0               1                       0                  1               1   \n",
       "1               1                       2                  2               2   \n",
       "2               0                       2                  0               1   \n",
       "3               1                       2                  1               1   \n",
       "4               2                       0                  0               0   \n",
       "\n",
       "   Genetic Risk Factor (APOE-ε4 allele)  Social Engagement Level  \\\n",
       "0                                     0                        1   \n",
       "1                                     0                        0   \n",
       "2                                     0                        1   \n",
       "3                                     0                        0   \n",
       "4                                     0                        1   \n",
       "\n",
       "   Income Level  Stress Levels  Urban vs Rural Living  Alzheimer’s Diagnosis  \n",
       "0             2              0                      1                      0  \n",
       "1             1              0                      1                      0  \n",
       "2             2              0                      0                      0  \n",
       "3             2              1                      0                      0  \n",
       "4             2              0                      0                      0  \n",
       "\n",
       "[5 rows x 25 columns]"
      ]
     },
     "execution_count": 14,
     "metadata": {},
     "output_type": "execute_result"
    }
   ],
   "source": [
    "df.head()"
   ]
  },
  {
   "cell_type": "code",
   "execution_count": 15,
   "id": "500198ec-e9ea-4a81-b3bf-ce766ee43f50",
   "metadata": {},
   "outputs": [
    {
     "data": {
      "text/html": [
       "<div>\n",
       "<style scoped>\n",
       "    .dataframe tbody tr th:only-of-type {\n",
       "        vertical-align: middle;\n",
       "    }\n",
       "\n",
       "    .dataframe tbody tr th {\n",
       "        vertical-align: top;\n",
       "    }\n",
       "\n",
       "    .dataframe thead th {\n",
       "        text-align: right;\n",
       "    }\n",
       "</style>\n",
       "<table border=\"1\" class=\"dataframe\">\n",
       "  <thead>\n",
       "    <tr style=\"text-align: right;\">\n",
       "      <th></th>\n",
       "      <th>Country</th>\n",
       "      <th>Age</th>\n",
       "      <th>Gender</th>\n",
       "      <th>Education Level</th>\n",
       "      <th>BMI</th>\n",
       "      <th>Physical Activity Level</th>\n",
       "      <th>Smoking Status</th>\n",
       "      <th>Alcohol Consumption</th>\n",
       "      <th>Diabetes</th>\n",
       "      <th>Hypertension</th>\n",
       "      <th>...</th>\n",
       "      <th>Dietary Habits</th>\n",
       "      <th>Air Pollution Exposure</th>\n",
       "      <th>Employment Status</th>\n",
       "      <th>Marital Status</th>\n",
       "      <th>Genetic Risk Factor (APOE-ε4 allele)</th>\n",
       "      <th>Social Engagement Level</th>\n",
       "      <th>Income Level</th>\n",
       "      <th>Stress Levels</th>\n",
       "      <th>Urban vs Rural Living</th>\n",
       "      <th>Alzheimer’s Diagnosis</th>\n",
       "    </tr>\n",
       "  </thead>\n",
       "  <tbody>\n",
       "    <tr>\n",
       "      <th>74278</th>\n",
       "      <td>12</td>\n",
       "      <td>10</td>\n",
       "      <td>0</td>\n",
       "      <td>3</td>\n",
       "      <td>4</td>\n",
       "      <td>0</td>\n",
       "      <td>1</td>\n",
       "      <td>0</td>\n",
       "      <td>0</td>\n",
       "      <td>0</td>\n",
       "      <td>...</td>\n",
       "      <td>0</td>\n",
       "      <td>0</td>\n",
       "      <td>2</td>\n",
       "      <td>2</td>\n",
       "      <td>0</td>\n",
       "      <td>2</td>\n",
       "      <td>0</td>\n",
       "      <td>2</td>\n",
       "      <td>0</td>\n",
       "      <td>0</td>\n",
       "    </tr>\n",
       "    <tr>\n",
       "      <th>74279</th>\n",
       "      <td>18</td>\n",
       "      <td>8</td>\n",
       "      <td>1</td>\n",
       "      <td>18</td>\n",
       "      <td>12</td>\n",
       "      <td>1</td>\n",
       "      <td>2</td>\n",
       "      <td>1</td>\n",
       "      <td>1</td>\n",
       "      <td>0</td>\n",
       "      <td>...</td>\n",
       "      <td>0</td>\n",
       "      <td>2</td>\n",
       "      <td>2</td>\n",
       "      <td>1</td>\n",
       "      <td>0</td>\n",
       "      <td>2</td>\n",
       "      <td>0</td>\n",
       "      <td>0</td>\n",
       "      <td>0</td>\n",
       "      <td>0</td>\n",
       "    </tr>\n",
       "    <tr>\n",
       "      <th>74280</th>\n",
       "      <td>16</td>\n",
       "      <td>7</td>\n",
       "      <td>0</td>\n",
       "      <td>13</td>\n",
       "      <td>10</td>\n",
       "      <td>2</td>\n",
       "      <td>2</td>\n",
       "      <td>2</td>\n",
       "      <td>0</td>\n",
       "      <td>0</td>\n",
       "      <td>...</td>\n",
       "      <td>1</td>\n",
       "      <td>1</td>\n",
       "      <td>0</td>\n",
       "      <td>1</td>\n",
       "      <td>1</td>\n",
       "      <td>0</td>\n",
       "      <td>1</td>\n",
       "      <td>1</td>\n",
       "      <td>0</td>\n",
       "      <td>0</td>\n",
       "    </tr>\n",
       "    <tr>\n",
       "      <th>74281</th>\n",
       "      <td>2</td>\n",
       "      <td>23</td>\n",
       "      <td>0</td>\n",
       "      <td>7</td>\n",
       "      <td>11</td>\n",
       "      <td>1</td>\n",
       "      <td>2</td>\n",
       "      <td>2</td>\n",
       "      <td>0</td>\n",
       "      <td>0</td>\n",
       "      <td>...</td>\n",
       "      <td>1</td>\n",
       "      <td>1</td>\n",
       "      <td>0</td>\n",
       "      <td>2</td>\n",
       "      <td>0</td>\n",
       "      <td>1</td>\n",
       "      <td>1</td>\n",
       "      <td>0</td>\n",
       "      <td>0</td>\n",
       "      <td>0</td>\n",
       "    </tr>\n",
       "    <tr>\n",
       "      <th>74282</th>\n",
       "      <td>11</td>\n",
       "      <td>7</td>\n",
       "      <td>0</td>\n",
       "      <td>1</td>\n",
       "      <td>13</td>\n",
       "      <td>1</td>\n",
       "      <td>0</td>\n",
       "      <td>2</td>\n",
       "      <td>0</td>\n",
       "      <td>0</td>\n",
       "      <td>...</td>\n",
       "      <td>0</td>\n",
       "      <td>1</td>\n",
       "      <td>2</td>\n",
       "      <td>1</td>\n",
       "      <td>0</td>\n",
       "      <td>1</td>\n",
       "      <td>2</td>\n",
       "      <td>2</td>\n",
       "      <td>1</td>\n",
       "      <td>0</td>\n",
       "    </tr>\n",
       "  </tbody>\n",
       "</table>\n",
       "<p>5 rows × 25 columns</p>\n",
       "</div>"
      ],
      "text/plain": [
       "       Country  Age  Gender  Education Level  BMI  Physical Activity Level  \\\n",
       "74278       12   10       0                3    4                        0   \n",
       "74279       18    8       1               18   12                        1   \n",
       "74280       16    7       0               13   10                        2   \n",
       "74281        2   23       0                7   11                        1   \n",
       "74282       11    7       0                1   13                        1   \n",
       "\n",
       "       Smoking Status  Alcohol Consumption  Diabetes  Hypertension  ...  \\\n",
       "74278               1                    0         0             0  ...   \n",
       "74279               2                    1         1             0  ...   \n",
       "74280               2                    2         0             0  ...   \n",
       "74281               2                    2         0             0  ...   \n",
       "74282               0                    2         0             0  ...   \n",
       "\n",
       "       Dietary Habits  Air Pollution Exposure  Employment Status  \\\n",
       "74278               0                       0                  2   \n",
       "74279               0                       2                  2   \n",
       "74280               1                       1                  0   \n",
       "74281               1                       1                  0   \n",
       "74282               0                       1                  2   \n",
       "\n",
       "       Marital Status  Genetic Risk Factor (APOE-ε4 allele)  \\\n",
       "74278               2                                     0   \n",
       "74279               1                                     0   \n",
       "74280               1                                     1   \n",
       "74281               2                                     0   \n",
       "74282               1                                     0   \n",
       "\n",
       "       Social Engagement Level  Income Level  Stress Levels  \\\n",
       "74278                        2             0              2   \n",
       "74279                        2             0              0   \n",
       "74280                        0             1              1   \n",
       "74281                        1             1              0   \n",
       "74282                        1             2              2   \n",
       "\n",
       "       Urban vs Rural Living  Alzheimer’s Diagnosis  \n",
       "74278                      0                      0  \n",
       "74279                      0                      0  \n",
       "74280                      0                      0  \n",
       "74281                      0                      0  \n",
       "74282                      1                      0  \n",
       "\n",
       "[5 rows x 25 columns]"
      ]
     },
     "execution_count": 15,
     "metadata": {},
     "output_type": "execute_result"
    }
   ],
   "source": [
    "df.tail()"
   ]
  },
  {
   "cell_type": "markdown",
   "id": "f81db90b-b94a-43a9-a23c-7f98a4ed5def",
   "metadata": {},
   "source": [
    "Identify outliers with iqr"
   ]
  },
  {
   "cell_type": "code",
   "execution_count": 16,
   "id": "40c99eec-88ff-4bd8-9a68-747124229718",
   "metadata": {},
   "outputs": [
    {
     "data": {
      "text/plain": [
       "Country                                  4.0\n",
       "Age                                     11.0\n",
       "Gender                                   0.0\n",
       "Education Level                          4.0\n",
       "BMI                                      4.0\n",
       "Physical Activity Level                  0.0\n",
       "Smoking Status                           0.0\n",
       "Alcohol Consumption                      0.0\n",
       "Diabetes                                 0.0\n",
       "Hypertension                             0.0\n",
       "Cholesterol Level                        0.0\n",
       "Family History of Alzheimer’s            0.0\n",
       "Cognitive Test Score                    17.0\n",
       "Depression Level                         0.0\n",
       "Sleep Quality                            0.0\n",
       "Dietary Habits                           0.0\n",
       "Air Pollution Exposure                   0.0\n",
       "Employment Status                        0.0\n",
       "Marital Status                           0.0\n",
       "Genetic Risk Factor (APOE-ε4 allele)     0.0\n",
       "Social Engagement Level                  0.0\n",
       "Income Level                             0.0\n",
       "Stress Levels                            0.0\n",
       "Urban vs Rural Living                    0.0\n",
       "Alzheimer’s Diagnosis                    0.0\n",
       "Name: 0.25, dtype: float64"
      ]
     },
     "execution_count": 16,
     "metadata": {},
     "output_type": "execute_result"
    }
   ],
   "source": [
    "Q1=df.quantile(0.25)\n",
    "Q1"
   ]
  },
  {
   "cell_type": "code",
   "execution_count": 17,
   "id": "ea8e35c9-4591-4330-90b7-4c1fc530e4f6",
   "metadata": {},
   "outputs": [
    {
     "data": {
      "text/plain": [
       "Country                                 14.0\n",
       "Age                                     33.0\n",
       "Gender                                   1.0\n",
       "Education Level                         14.0\n",
       "BMI                                     12.0\n",
       "Physical Activity Level                  2.0\n",
       "Smoking Status                           2.0\n",
       "Alcohol Consumption                      2.0\n",
       "Diabetes                                 0.0\n",
       "Hypertension                             1.0\n",
       "Cholesterol Level                        1.0\n",
       "Family History of Alzheimer’s            1.0\n",
       "Cognitive Test Score                    52.0\n",
       "Depression Level                         2.0\n",
       "Sleep Quality                            2.0\n",
       "Dietary Habits                           2.0\n",
       "Air Pollution Exposure                   2.0\n",
       "Employment Status                        2.0\n",
       "Marital Status                           2.0\n",
       "Genetic Risk Factor (APOE-ε4 allele)     0.0\n",
       "Social Engagement Level                  2.0\n",
       "Income Level                             2.0\n",
       "Stress Levels                            2.0\n",
       "Urban vs Rural Living                    1.0\n",
       "Alzheimer’s Diagnosis                    1.0\n",
       "Name: 0.75, dtype: float64"
      ]
     },
     "execution_count": 17,
     "metadata": {},
     "output_type": "execute_result"
    }
   ],
   "source": [
    "Q3=df.quantile(0.75)\n",
    "Q3"
   ]
  },
  {
   "cell_type": "code",
   "execution_count": 18,
   "id": "43bd4d81-c185-4a41-b8d5-4946f9a741b8",
   "metadata": {},
   "outputs": [
    {
     "data": {
      "text/plain": [
       "Country                                 10.0\n",
       "Age                                     22.0\n",
       "Gender                                   1.0\n",
       "Education Level                         10.0\n",
       "BMI                                      8.0\n",
       "Physical Activity Level                  2.0\n",
       "Smoking Status                           2.0\n",
       "Alcohol Consumption                      2.0\n",
       "Diabetes                                 0.0\n",
       "Hypertension                             1.0\n",
       "Cholesterol Level                        1.0\n",
       "Family History of Alzheimer’s            1.0\n",
       "Cognitive Test Score                    35.0\n",
       "Depression Level                         2.0\n",
       "Sleep Quality                            2.0\n",
       "Dietary Habits                           2.0\n",
       "Air Pollution Exposure                   2.0\n",
       "Employment Status                        2.0\n",
       "Marital Status                           2.0\n",
       "Genetic Risk Factor (APOE-ε4 allele)     0.0\n",
       "Social Engagement Level                  2.0\n",
       "Income Level                             2.0\n",
       "Stress Levels                            2.0\n",
       "Urban vs Rural Living                    1.0\n",
       "Alzheimer’s Diagnosis                    1.0\n",
       "dtype: float64"
      ]
     },
     "execution_count": 18,
     "metadata": {},
     "output_type": "execute_result"
    }
   ],
   "source": [
    "IQR=Q3-Q1\n",
    "IQR"
   ]
  },
  {
   "cell_type": "code",
   "execution_count": 19,
   "id": "50afdc55-7636-4e70-abc2-0aa2867012b9",
   "metadata": {},
   "outputs": [],
   "source": [
    "upper_lim = Q3 + 1.5 * IQR\n",
    "lower_lim = Q1 - 1.5 * IQR"
   ]
  },
  {
   "cell_type": "code",
   "execution_count": 20,
   "id": "f8a3c5d4-5427-4f38-8734-24ddf1fa1cda",
   "metadata": {},
   "outputs": [
    {
     "data": {
      "text/plain": [
       "Country                                     0\n",
       "Age                                         0\n",
       "Gender                                      0\n",
       "Education Level                             0\n",
       "BMI                                         0\n",
       "Physical Activity Level                     0\n",
       "Smoking Status                              0\n",
       "Alcohol Consumption                         0\n",
       "Diabetes                                14756\n",
       "Hypertension                                0\n",
       "Cholesterol Level                           0\n",
       "Family History of Alzheimer’s               0\n",
       "Cognitive Test Score                        0\n",
       "Depression Level                            0\n",
       "Sleep Quality                               0\n",
       "Dietary Habits                              0\n",
       "Air Pollution Exposure                      0\n",
       "Employment Status                           0\n",
       "Marital Status                              0\n",
       "Genetic Risk Factor (APOE-ε4 allele)    14722\n",
       "Social Engagement Level                     0\n",
       "Income Level                                0\n",
       "Stress Levels                               0\n",
       "Urban vs Rural Living                       0\n",
       "Alzheimer’s Diagnosis                       0\n",
       "dtype: int64"
      ]
     },
     "execution_count": 20,
     "metadata": {},
     "output_type": "execute_result"
    }
   ],
   "source": [
    "outliers = ((df < lower_lim) | (df > upper_lim)).sum()\n",
    "outliers"
   ]
  },
  {
   "cell_type": "markdown",
   "id": "a68b53e6-6fef-43bf-aa78-025ceee8e973",
   "metadata": {},
   "source": [
    "handling outliers "
   ]
  },
  {
   "cell_type": "code",
   "execution_count": 21,
   "id": "79225047-0118-42f9-b8df-3d65069ef6fc",
   "metadata": {},
   "outputs": [
    {
     "name": "stdout",
     "output_type": "stream",
     "text": [
      "Remaining outliers : \n",
      "  Country                                 0\n",
      "Age                                     0\n",
      "Gender                                  0\n",
      "Education Level                         0\n",
      "BMI                                     0\n",
      "Physical Activity Level                 0\n",
      "Smoking Status                          0\n",
      "Alcohol Consumption                     0\n",
      "Diabetes                                0\n",
      "Hypertension                            0\n",
      "Cholesterol Level                       0\n",
      "Family History of Alzheimer’s           0\n",
      "Cognitive Test Score                    0\n",
      "Depression Level                        0\n",
      "Sleep Quality                           0\n",
      "Dietary Habits                          0\n",
      "Air Pollution Exposure                  0\n",
      "Employment Status                       0\n",
      "Marital Status                          0\n",
      "Genetic Risk Factor (APOE-ε4 allele)    0\n",
      "Social Engagement Level                 0\n",
      "Income Level                            0\n",
      "Stress Levels                           0\n",
      "Urban vs Rural Living                   0\n",
      "Alzheimer’s Diagnosis                   0\n",
      "dtype: int64\n"
     ]
    }
   ],
   "source": [
    "for col in ['Diabetes', 'Genetic Risk Factor (APOE-ε4 allele)']:\n",
    "    mode_value = df[col].mode()[0] \n",
    "    df[col] = df[col].mask((df[col] < lower_lim[col]) | (df[col] > upper_lim[col]), mode_value)\n",
    "print(\"Remaining outliers : \\n \", ((df < lower_lim) | (df > upper_lim)).sum())\n"
   ]
  },
  {
   "cell_type": "code",
   "execution_count": 22,
   "id": "6072e77e-08fb-435f-a0ef-cd18c3d31ef2",
   "metadata": {},
   "outputs": [
    {
     "data": {
      "text/plain": [
       "Country                                 0\n",
       "Age                                     0\n",
       "Gender                                  0\n",
       "Education Level                         0\n",
       "BMI                                     0\n",
       "Physical Activity Level                 0\n",
       "Smoking Status                          0\n",
       "Alcohol Consumption                     0\n",
       "Diabetes                                0\n",
       "Hypertension                            0\n",
       "Cholesterol Level                       0\n",
       "Family History of Alzheimer’s           0\n",
       "Cognitive Test Score                    0\n",
       "Depression Level                        0\n",
       "Sleep Quality                           0\n",
       "Dietary Habits                          0\n",
       "Air Pollution Exposure                  0\n",
       "Employment Status                       0\n",
       "Marital Status                          0\n",
       "Genetic Risk Factor (APOE-ε4 allele)    0\n",
       "Social Engagement Level                 0\n",
       "Income Level                            0\n",
       "Stress Levels                           0\n",
       "Urban vs Rural Living                   0\n",
       "Alzheimer’s Diagnosis                   0\n",
       "dtype: int64"
      ]
     },
     "execution_count": 22,
     "metadata": {},
     "output_type": "execute_result"
    }
   ],
   "source": [
    "df.isnull().sum()"
   ]
  },
  {
   "cell_type": "markdown",
   "id": "8e49ecd6-f14b-40ab-aa00-de106dd11435",
   "metadata": {},
   "source": [
    "feature engineering"
   ]
  },
  {
   "cell_type": "code",
   "execution_count": 23,
   "id": "1895c4dc-e58d-4845-92e4-3dcd9f92cbf6",
   "metadata": {},
   "outputs": [],
   "source": [
    "columns_to_drop = [\n",
    "    'Country', 'Employment Status', 'Marital Status', \n",
    "    'Income Level', 'Urban vs Rural Living','BMI'\n",
    "]\n",
    "df_cleaned = df.drop(columns=columns_to_drop)"
   ]
  },
  {
   "cell_type": "code",
   "execution_count": 24,
   "id": "5ae5cba5-911d-4894-88e2-76455310ab39",
   "metadata": {},
   "outputs": [
    {
     "data": {
      "text/plain": [
       "Index(['Age', 'Gender', 'Education Level', 'Physical Activity Level',\n",
       "       'Smoking Status', 'Alcohol Consumption', 'Diabetes', 'Hypertension',\n",
       "       'Cholesterol Level', 'Family History of Alzheimer’s',\n",
       "       'Cognitive Test Score', 'Depression Level', 'Sleep Quality',\n",
       "       'Dietary Habits', 'Air Pollution Exposure',\n",
       "       'Genetic Risk Factor (APOE-ε4 allele)', 'Social Engagement Level',\n",
       "       'Stress Levels', 'Alzheimer’s Diagnosis'],\n",
       "      dtype='object')"
      ]
     },
     "execution_count": 24,
     "metadata": {},
     "output_type": "execute_result"
    }
   ],
   "source": [
    "df_cleaned.columns"
   ]
  },
  {
   "cell_type": "markdown",
   "id": "893267e1-57ad-4529-9b71-2003c9c4db82",
   "metadata": {},
   "source": [
    "Creating a new csv after feature engineering and reading the data from csv"
   ]
  },
  {
   "cell_type": "code",
   "execution_count": 25,
   "id": "4d7c3c78-21fa-420b-b461-4a5043ab0566",
   "metadata": {},
   "outputs": [],
   "source": [
    "df_cleaned.to_csv(\"Alzheimer_prediction_cleaned.csv\", index = False)"
   ]
  },
  {
   "cell_type": "code",
   "execution_count": 26,
   "id": "7c3df586-0cd7-43ea-b71a-3c13774c2452",
   "metadata": {},
   "outputs": [
    {
     "data": {
      "text/html": [
       "<div>\n",
       "<style scoped>\n",
       "    .dataframe tbody tr th:only-of-type {\n",
       "        vertical-align: middle;\n",
       "    }\n",
       "\n",
       "    .dataframe tbody tr th {\n",
       "        vertical-align: top;\n",
       "    }\n",
       "\n",
       "    .dataframe thead th {\n",
       "        text-align: right;\n",
       "    }\n",
       "</style>\n",
       "<table border=\"1\" class=\"dataframe\">\n",
       "  <thead>\n",
       "    <tr style=\"text-align: right;\">\n",
       "      <th></th>\n",
       "      <th>Age</th>\n",
       "      <th>Gender</th>\n",
       "      <th>Education Level</th>\n",
       "      <th>Physical Activity Level</th>\n",
       "      <th>Smoking Status</th>\n",
       "      <th>Alcohol Consumption</th>\n",
       "      <th>Diabetes</th>\n",
       "      <th>Hypertension</th>\n",
       "      <th>Cholesterol Level</th>\n",
       "      <th>Family History of Alzheimer’s</th>\n",
       "      <th>Cognitive Test Score</th>\n",
       "      <th>Depression Level</th>\n",
       "      <th>Sleep Quality</th>\n",
       "      <th>Dietary Habits</th>\n",
       "      <th>Air Pollution Exposure</th>\n",
       "      <th>Genetic Risk Factor (APOE-ε4 allele)</th>\n",
       "      <th>Social Engagement Level</th>\n",
       "      <th>Stress Levels</th>\n",
       "      <th>Alzheimer’s Diagnosis</th>\n",
       "    </tr>\n",
       "  </thead>\n",
       "  <tbody>\n",
       "    <tr>\n",
       "      <th>0</th>\n",
       "      <td>40</td>\n",
       "      <td>1</td>\n",
       "      <td>1</td>\n",
       "      <td>2</td>\n",
       "      <td>2</td>\n",
       "      <td>1</td>\n",
       "      <td>0</td>\n",
       "      <td>0</td>\n",
       "      <td>1</td>\n",
       "      <td>0</td>\n",
       "      <td>60</td>\n",
       "      <td>1</td>\n",
       "      <td>2</td>\n",
       "      <td>1</td>\n",
       "      <td>0</td>\n",
       "      <td>0</td>\n",
       "      <td>1</td>\n",
       "      <td>0</td>\n",
       "      <td>0</td>\n",
       "    </tr>\n",
       "    <tr>\n",
       "      <th>1</th>\n",
       "      <td>22</td>\n",
       "      <td>1</td>\n",
       "      <td>7</td>\n",
       "      <td>2</td>\n",
       "      <td>1</td>\n",
       "      <td>0</td>\n",
       "      <td>0</td>\n",
       "      <td>0</td>\n",
       "      <td>1</td>\n",
       "      <td>0</td>\n",
       "      <td>35</td>\n",
       "      <td>1</td>\n",
       "      <td>1</td>\n",
       "      <td>1</td>\n",
       "      <td>2</td>\n",
       "      <td>0</td>\n",
       "      <td>0</td>\n",
       "      <td>0</td>\n",
       "      <td>0</td>\n",
       "    </tr>\n",
       "    <tr>\n",
       "      <th>2</th>\n",
       "      <td>36</td>\n",
       "      <td>0</td>\n",
       "      <td>19</td>\n",
       "      <td>0</td>\n",
       "      <td>0</td>\n",
       "      <td>1</td>\n",
       "      <td>0</td>\n",
       "      <td>1</td>\n",
       "      <td>1</td>\n",
       "      <td>0</td>\n",
       "      <td>13</td>\n",
       "      <td>0</td>\n",
       "      <td>1</td>\n",
       "      <td>0</td>\n",
       "      <td>2</td>\n",
       "      <td>0</td>\n",
       "      <td>1</td>\n",
       "      <td>0</td>\n",
       "      <td>0</td>\n",
       "    </tr>\n",
       "    <tr>\n",
       "      <th>3</th>\n",
       "      <td>3</td>\n",
       "      <td>1</td>\n",
       "      <td>17</td>\n",
       "      <td>1</td>\n",
       "      <td>2</td>\n",
       "      <td>2</td>\n",
       "      <td>0</td>\n",
       "      <td>0</td>\n",
       "      <td>1</td>\n",
       "      <td>0</td>\n",
       "      <td>51</td>\n",
       "      <td>2</td>\n",
       "      <td>0</td>\n",
       "      <td>1</td>\n",
       "      <td>2</td>\n",
       "      <td>0</td>\n",
       "      <td>0</td>\n",
       "      <td>1</td>\n",
       "      <td>0</td>\n",
       "    </tr>\n",
       "    <tr>\n",
       "      <th>4</th>\n",
       "      <td>8</td>\n",
       "      <td>0</td>\n",
       "      <td>3</td>\n",
       "      <td>0</td>\n",
       "      <td>1</td>\n",
       "      <td>0</td>\n",
       "      <td>0</td>\n",
       "      <td>0</td>\n",
       "      <td>1</td>\n",
       "      <td>0</td>\n",
       "      <td>19</td>\n",
       "      <td>0</td>\n",
       "      <td>2</td>\n",
       "      <td>2</td>\n",
       "      <td>0</td>\n",
       "      <td>0</td>\n",
       "      <td>1</td>\n",
       "      <td>0</td>\n",
       "      <td>0</td>\n",
       "    </tr>\n",
       "  </tbody>\n",
       "</table>\n",
       "</div>"
      ],
      "text/plain": [
       "   Age  Gender  Education Level  Physical Activity Level  Smoking Status  \\\n",
       "0   40       1                1                        2               2   \n",
       "1   22       1                7                        2               1   \n",
       "2   36       0               19                        0               0   \n",
       "3    3       1               17                        1               2   \n",
       "4    8       0                3                        0               1   \n",
       "\n",
       "   Alcohol Consumption  Diabetes  Hypertension  Cholesterol Level  \\\n",
       "0                    1         0             0                  1   \n",
       "1                    0         0             0                  1   \n",
       "2                    1         0             1                  1   \n",
       "3                    2         0             0                  1   \n",
       "4                    0         0             0                  1   \n",
       "\n",
       "   Family History of Alzheimer’s  Cognitive Test Score  Depression Level  \\\n",
       "0                              0                    60                 1   \n",
       "1                              0                    35                 1   \n",
       "2                              0                    13                 0   \n",
       "3                              0                    51                 2   \n",
       "4                              0                    19                 0   \n",
       "\n",
       "   Sleep Quality  Dietary Habits  Air Pollution Exposure  \\\n",
       "0              2               1                       0   \n",
       "1              1               1                       2   \n",
       "2              1               0                       2   \n",
       "3              0               1                       2   \n",
       "4              2               2                       0   \n",
       "\n",
       "   Genetic Risk Factor (APOE-ε4 allele)  Social Engagement Level  \\\n",
       "0                                     0                        1   \n",
       "1                                     0                        0   \n",
       "2                                     0                        1   \n",
       "3                                     0                        0   \n",
       "4                                     0                        1   \n",
       "\n",
       "   Stress Levels  Alzheimer’s Diagnosis  \n",
       "0              0                      0  \n",
       "1              0                      0  \n",
       "2              0                      0  \n",
       "3              1                      0  \n",
       "4              0                      0  "
      ]
     },
     "execution_count": 26,
     "metadata": {},
     "output_type": "execute_result"
    }
   ],
   "source": [
    "df_cleaned.head()"
   ]
  },
  {
   "cell_type": "code",
   "execution_count": 27,
   "id": "c83fb742-a345-4d62-9865-79ac57ee81e6",
   "metadata": {},
   "outputs": [
    {
     "name": "stdout",
     "output_type": "stream",
     "text": [
      "Age                                     0\n",
      "Gender                                  0\n",
      "Education Level                         0\n",
      "Physical Activity Level                 0\n",
      "Smoking Status                          0\n",
      "Alcohol Consumption                     0\n",
      "Diabetes                                0\n",
      "Hypertension                            0\n",
      "Cholesterol Level                       0\n",
      "Family History of Alzheimer’s           0\n",
      "Cognitive Test Score                    0\n",
      "Depression Level                        0\n",
      "Sleep Quality                           0\n",
      "Dietary Habits                          0\n",
      "Air Pollution Exposure                  0\n",
      "Genetic Risk Factor (APOE-ε4 allele)    0\n",
      "Social Engagement Level                 0\n",
      "Stress Levels                           0\n",
      "Alzheimer’s Diagnosis                   0\n",
      "dtype: int64\n"
     ]
    }
   ],
   "source": [
    "print(df_cleaned.isnull().sum())"
   ]
  },
  {
   "cell_type": "code",
   "execution_count": 28,
   "id": "9533d25d-a07c-41e6-81bd-96e6aec3028d",
   "metadata": {},
   "outputs": [
    {
     "name": "stdout",
     "output_type": "stream",
     "text": [
      "<class 'pandas.core.frame.DataFrame'>\n",
      "RangeIndex: 74283 entries, 0 to 74282\n",
      "Data columns (total 19 columns):\n",
      " #   Column                                Non-Null Count  Dtype\n",
      "---  ------                                --------------  -----\n",
      " 0   Age                                   74283 non-null  int64\n",
      " 1   Gender                                74283 non-null  int64\n",
      " 2   Education Level                       74283 non-null  int64\n",
      " 3   Physical Activity Level               74283 non-null  int64\n",
      " 4   Smoking Status                        74283 non-null  int64\n",
      " 5   Alcohol Consumption                   74283 non-null  int64\n",
      " 6   Diabetes                              74283 non-null  int64\n",
      " 7   Hypertension                          74283 non-null  int64\n",
      " 8   Cholesterol Level                     74283 non-null  int64\n",
      " 9   Family History of Alzheimer’s         74283 non-null  int64\n",
      " 10  Cognitive Test Score                  74283 non-null  int64\n",
      " 11  Depression Level                      74283 non-null  int64\n",
      " 12  Sleep Quality                         74283 non-null  int64\n",
      " 13  Dietary Habits                        74283 non-null  int64\n",
      " 14  Air Pollution Exposure                74283 non-null  int64\n",
      " 15  Genetic Risk Factor (APOE-ε4 allele)  74283 non-null  int64\n",
      " 16  Social Engagement Level               74283 non-null  int64\n",
      " 17  Stress Levels                         74283 non-null  int64\n",
      " 18  Alzheimer’s Diagnosis                 74283 non-null  int64\n",
      "dtypes: int64(19)\n",
      "memory usage: 10.8 MB\n"
     ]
    }
   ],
   "source": [
    "df_cleaned.info()"
   ]
  },
  {
   "cell_type": "markdown",
   "id": "652eca22-1ce1-452a-916f-974904705214",
   "metadata": {},
   "source": [
    "Splitting the data and train the data for prediction"
   ]
  },
  {
   "cell_type": "code",
   "execution_count": 29,
   "id": "6d32ed7b-620e-45ad-a220-a7a22760a5fc",
   "metadata": {},
   "outputs": [],
   "source": [
    "X = df_cleaned.drop(columns=['Alzheimer’s Diagnosis'])  \n",
    "y = df_cleaned['Alzheimer’s Diagnosis'] \n"
   ]
  },
  {
   "cell_type": "code",
   "execution_count": 30,
   "id": "7b3310c6-cad0-464d-8246-2681d13d7f4d",
   "metadata": {},
   "outputs": [],
   "source": [
    "X_train, X_test, y_train, y_test = train_test_split(X, y, test_size=0.2, random_state=42)\n"
   ]
  },
  {
   "cell_type": "markdown",
   "id": "62fc81be-c279-40c1-b456-5d2d898ddfba",
   "metadata": {},
   "source": [
    "visualize the mean values of different features "
   ]
  },
  {
   "cell_type": "code",
   "execution_count": 59,
   "id": "720f3df2-6314-4a87-9383-412914cac66c",
   "metadata": {},
   "outputs": [
    {
     "data": {
      "application/vnd.plotly.v1+json": {
       "config": {
        "plotlyServerURL": "https://plot.ly"
       },
       "data": [
        {
         "alignmentgroup": "True",
         "hovertemplate": "Feature=%{x}<br>Average Value=%{y}<extra></extra>",
         "legendgroup": "Age",
         "marker": {
          "color": "#636efa",
          "pattern": {
           "shape": ""
          }
         },
         "name": "Age",
         "offsetgroup": "Age",
         "orientation": "v",
         "showlegend": true,
         "textposition": "auto",
         "type": "bar",
         "x": [
          "Age"
         ],
         "xaxis": "x",
         "y": [
          21.964702556439562
         ],
         "yaxis": "y"
        },
        {
         "alignmentgroup": "True",
         "hovertemplate": "Feature=%{x}<br>Average Value=%{y}<extra></extra>",
         "legendgroup": "Gender",
         "marker": {
          "color": "#EF553B",
          "pattern": {
           "shape": ""
          }
         },
         "name": "Gender",
         "offsetgroup": "Gender",
         "orientation": "v",
         "showlegend": true,
         "textposition": "auto",
         "type": "bar",
         "x": [
          "Gender"
         ],
         "xaxis": "x",
         "y": [
          0.49855283173808274
         ],
         "yaxis": "y"
        },
        {
         "alignmentgroup": "True",
         "hovertemplate": "Feature=%{x}<br>Average Value=%{y}<extra></extra>",
         "legendgroup": "Education Level",
         "marker": {
          "color": "#00cc96",
          "pattern": {
           "shape": ""
          }
         },
         "name": "Education Level",
         "offsetgroup": "Education Level",
         "orientation": "v",
         "showlegend": true,
         "textposition": "auto",
         "type": "bar",
         "x": [
          "Education Level"
         ],
         "xaxis": "x",
         "y": [
          9.487513966856481
         ],
         "yaxis": "y"
        },
        {
         "alignmentgroup": "True",
         "hovertemplate": "Feature=%{x}<br>Average Value=%{y}<extra></extra>",
         "legendgroup": "Physical Activity Level",
         "marker": {
          "color": "#ab63fa",
          "pattern": {
           "shape": ""
          }
         },
         "name": "Physical Activity Level",
         "offsetgroup": "Physical Activity Level",
         "orientation": "v",
         "showlegend": true,
         "textposition": "auto",
         "type": "bar",
         "x": [
          "Physical Activity Level"
         ],
         "xaxis": "x",
         "y": [
          0.9976172206292153
         ],
         "yaxis": "y"
        },
        {
         "alignmentgroup": "True",
         "hovertemplate": "Feature=%{x}<br>Average Value=%{y}<extra></extra>",
         "legendgroup": "Smoking Status",
         "marker": {
          "color": "#FFA15A",
          "pattern": {
           "shape": ""
          }
         },
         "name": "Smoking Status",
         "offsetgroup": "Smoking Status",
         "orientation": "v",
         "showlegend": true,
         "textposition": "auto",
         "type": "bar",
         "x": [
          "Smoking Status"
         ],
         "xaxis": "x",
         "y": [
          0.9976441446899021
         ],
         "yaxis": "y"
        },
        {
         "alignmentgroup": "True",
         "hovertemplate": "Feature=%{x}<br>Average Value=%{y}<extra></extra>",
         "legendgroup": "Alcohol Consumption",
         "marker": {
          "color": "#19d3f3",
          "pattern": {
           "shape": ""
          }
         },
         "name": "Alcohol Consumption",
         "offsetgroup": "Alcohol Consumption",
         "orientation": "v",
         "showlegend": true,
         "textposition": "auto",
         "type": "bar",
         "x": [
          "Alcohol Consumption"
         ],
         "xaxis": "x",
         "y": [
          0.9982903221463861
         ],
         "yaxis": "y"
        },
        {
         "alignmentgroup": "True",
         "hovertemplate": "Feature=%{x}<br>Average Value=%{y}<extra></extra>",
         "legendgroup": "Diabetes",
         "marker": {
          "color": "#FF6692",
          "pattern": {
           "shape": ""
          }
         },
         "name": "Diabetes",
         "offsetgroup": "Diabetes",
         "orientation": "v",
         "showlegend": true,
         "textposition": "auto",
         "type": "bar",
         "x": [
          "Diabetes"
         ],
         "xaxis": "x",
         "y": [
          0
         ],
         "yaxis": "y"
        },
        {
         "alignmentgroup": "True",
         "hovertemplate": "Feature=%{x}<br>Average Value=%{y}<extra></extra>",
         "legendgroup": "Hypertension",
         "marker": {
          "color": "#B6E880",
          "pattern": {
           "shape": ""
          }
         },
         "name": "Hypertension",
         "offsetgroup": "Hypertension",
         "orientation": "v",
         "showlegend": true,
         "textposition": "auto",
         "type": "bar",
         "x": [
          "Hypertension"
         ],
         "xaxis": "x",
         "y": [
          0.2981705100763297
         ],
         "yaxis": "y"
        },
        {
         "alignmentgroup": "True",
         "hovertemplate": "Feature=%{x}<br>Average Value=%{y}<extra></extra>",
         "legendgroup": "Cholesterol Level",
         "marker": {
          "color": "#FF97FF",
          "pattern": {
           "shape": ""
          }
         },
         "name": "Cholesterol Level",
         "offsetgroup": "Cholesterol Level",
         "orientation": "v",
         "showlegend": true,
         "textposition": "auto",
         "type": "bar",
         "x": [
          "Cholesterol Level"
         ],
         "xaxis": "x",
         "y": [
          0.6996621030383803
         ],
         "yaxis": "y"
        },
        {
         "alignmentgroup": "True",
         "hovertemplate": "Feature=%{x}<br>Average Value=%{y}<extra></extra>",
         "legendgroup": "Family History of Alzheimer’s",
         "marker": {
          "color": "#FECB52",
          "pattern": {
           "shape": ""
          }
         },
         "name": "Family History of Alzheimer’s",
         "offsetgroup": "Family History of Alzheimer’s",
         "orientation": "v",
         "showlegend": true,
         "textposition": "auto",
         "type": "bar",
         "x": [
          "Family History of Alzheimer’s"
         ],
         "xaxis": "x",
         "y": [
          0.29992057402097383
         ],
         "yaxis": "y"
        },
        {
         "alignmentgroup": "True",
         "hovertemplate": "Feature=%{x}<br>Average Value=%{y}<extra></extra>",
         "legendgroup": "Cognitive Test Score",
         "marker": {
          "color": "#636efa",
          "pattern": {
           "shape": ""
          }
         },
         "name": "Cognitive Test Score",
         "offsetgroup": "Cognitive Test Score",
         "orientation": "v",
         "showlegend": true,
         "textposition": "auto",
         "type": "bar",
         "x": [
          "Cognitive Test Score"
         ],
         "xaxis": "x",
         "y": [
          34.65424121265969
         ],
         "yaxis": "y"
        },
        {
         "alignmentgroup": "True",
         "hovertemplate": "Feature=%{x}<br>Average Value=%{y}<extra></extra>",
         "legendgroup": "Depression Level",
         "marker": {
          "color": "#EF553B",
          "pattern": {
           "shape": ""
          }
         },
         "name": "Depression Level",
         "offsetgroup": "Depression Level",
         "orientation": "v",
         "showlegend": true,
         "textposition": "auto",
         "type": "bar",
         "x": [
          "Depression Level"
         ],
         "xaxis": "x",
         "y": [
          1.00216738688529
         ],
         "yaxis": "y"
        },
        {
         "alignmentgroup": "True",
         "hovertemplate": "Feature=%{x}<br>Average Value=%{y}<extra></extra>",
         "legendgroup": "Sleep Quality",
         "marker": {
          "color": "#00cc96",
          "pattern": {
           "shape": ""
          }
         },
         "name": "Sleep Quality",
         "offsetgroup": "Sleep Quality",
         "orientation": "v",
         "showlegend": true,
         "textposition": "auto",
         "type": "bar",
         "x": [
          "Sleep Quality"
         ],
         "xaxis": "x",
         "y": [
          0.9960690871397224
         ],
         "yaxis": "y"
        },
        {
         "alignmentgroup": "True",
         "hovertemplate": "Feature=%{x}<br>Average Value=%{y}<extra></extra>",
         "legendgroup": "Dietary Habits",
         "marker": {
          "color": "#ab63fa",
          "pattern": {
           "shape": ""
          }
         },
         "name": "Dietary Habits",
         "offsetgroup": "Dietary Habits",
         "orientation": "v",
         "showlegend": true,
         "textposition": "auto",
         "type": "bar",
         "x": [
          "Dietary Habits"
         ],
         "xaxis": "x",
         "y": [
          0.9967825747479235
         ],
         "yaxis": "y"
        },
        {
         "alignmentgroup": "True",
         "hovertemplate": "Feature=%{x}<br>Average Value=%{y}<extra></extra>",
         "legendgroup": "Air Pollution Exposure",
         "marker": {
          "color": "#FFA15A",
          "pattern": {
           "shape": ""
          }
         },
         "name": "Air Pollution Exposure",
         "offsetgroup": "Air Pollution Exposure",
         "orientation": "v",
         "showlegend": true,
         "textposition": "auto",
         "type": "bar",
         "x": [
          "Air Pollution Exposure"
         ],
         "xaxis": "x",
         "y": [
          0.997509524386468
         ],
         "yaxis": "y"
        },
        {
         "alignmentgroup": "True",
         "hovertemplate": "Feature=%{x}<br>Average Value=%{y}<extra></extra>",
         "legendgroup": "Genetic Risk Factor (APOE-ε4 allele)",
         "marker": {
          "color": "#19d3f3",
          "pattern": {
           "shape": ""
          }
         },
         "name": "Genetic Risk Factor (APOE-ε4 allele)",
         "offsetgroup": "Genetic Risk Factor (APOE-ε4 allele)",
         "orientation": "v",
         "showlegend": true,
         "textposition": "auto",
         "type": "bar",
         "x": [
          "Genetic Risk Factor (APOE-ε4 allele)"
         ],
         "xaxis": "x",
         "y": [
          0
         ],
         "yaxis": "y"
        },
        {
         "alignmentgroup": "True",
         "hovertemplate": "Feature=%{x}<br>Average Value=%{y}<extra></extra>",
         "legendgroup": "Social Engagement Level",
         "marker": {
          "color": "#FF6692",
          "pattern": {
           "shape": ""
          }
         },
         "name": "Social Engagement Level",
         "offsetgroup": "Social Engagement Level",
         "orientation": "v",
         "showlegend": true,
         "textposition": "auto",
         "type": "bar",
         "x": [
          "Social Engagement Level"
         ],
         "xaxis": "x",
         "y": [
          1.0021808489156334
         ],
         "yaxis": "y"
        },
        {
         "alignmentgroup": "True",
         "hovertemplate": "Feature=%{x}<br>Average Value=%{y}<extra></extra>",
         "legendgroup": "Stress Levels",
         "marker": {
          "color": "#B6E880",
          "pattern": {
           "shape": ""
          }
         },
         "name": "Stress Levels",
         "offsetgroup": "Stress Levels",
         "orientation": "v",
         "showlegend": true,
         "textposition": "auto",
         "type": "bar",
         "x": [
          "Stress Levels"
         ],
         "xaxis": "x",
         "y": [
          1.0029481846452082
         ],
         "yaxis": "y"
        }
       ],
       "layout": {
        "autosize": true,
        "barmode": "relative",
        "legend": {
         "title": {
          "text": "Feature"
         },
         "tracegroupgap": 0
        },
        "template": {
         "data": {
          "bar": [
           {
            "error_x": {
             "color": "#2a3f5f"
            },
            "error_y": {
             "color": "#2a3f5f"
            },
            "marker": {
             "line": {
              "color": "#E5ECF6",
              "width": 0.5
             },
             "pattern": {
              "fillmode": "overlay",
              "size": 10,
              "solidity": 0.2
             }
            },
            "type": "bar"
           }
          ],
          "barpolar": [
           {
            "marker": {
             "line": {
              "color": "#E5ECF6",
              "width": 0.5
             },
             "pattern": {
              "fillmode": "overlay",
              "size": 10,
              "solidity": 0.2
             }
            },
            "type": "barpolar"
           }
          ],
          "carpet": [
           {
            "aaxis": {
             "endlinecolor": "#2a3f5f",
             "gridcolor": "white",
             "linecolor": "white",
             "minorgridcolor": "white",
             "startlinecolor": "#2a3f5f"
            },
            "baxis": {
             "endlinecolor": "#2a3f5f",
             "gridcolor": "white",
             "linecolor": "white",
             "minorgridcolor": "white",
             "startlinecolor": "#2a3f5f"
            },
            "type": "carpet"
           }
          ],
          "choropleth": [
           {
            "colorbar": {
             "outlinewidth": 0,
             "ticks": ""
            },
            "type": "choropleth"
           }
          ],
          "contour": [
           {
            "colorbar": {
             "outlinewidth": 0,
             "ticks": ""
            },
            "colorscale": [
             [
              0,
              "#0d0887"
             ],
             [
              0.1111111111111111,
              "#46039f"
             ],
             [
              0.2222222222222222,
              "#7201a8"
             ],
             [
              0.3333333333333333,
              "#9c179e"
             ],
             [
              0.4444444444444444,
              "#bd3786"
             ],
             [
              0.5555555555555556,
              "#d8576b"
             ],
             [
              0.6666666666666666,
              "#ed7953"
             ],
             [
              0.7777777777777778,
              "#fb9f3a"
             ],
             [
              0.8888888888888888,
              "#fdca26"
             ],
             [
              1,
              "#f0f921"
             ]
            ],
            "type": "contour"
           }
          ],
          "contourcarpet": [
           {
            "colorbar": {
             "outlinewidth": 0,
             "ticks": ""
            },
            "type": "contourcarpet"
           }
          ],
          "heatmap": [
           {
            "colorbar": {
             "outlinewidth": 0,
             "ticks": ""
            },
            "colorscale": [
             [
              0,
              "#0d0887"
             ],
             [
              0.1111111111111111,
              "#46039f"
             ],
             [
              0.2222222222222222,
              "#7201a8"
             ],
             [
              0.3333333333333333,
              "#9c179e"
             ],
             [
              0.4444444444444444,
              "#bd3786"
             ],
             [
              0.5555555555555556,
              "#d8576b"
             ],
             [
              0.6666666666666666,
              "#ed7953"
             ],
             [
              0.7777777777777778,
              "#fb9f3a"
             ],
             [
              0.8888888888888888,
              "#fdca26"
             ],
             [
              1,
              "#f0f921"
             ]
            ],
            "type": "heatmap"
           }
          ],
          "heatmapgl": [
           {
            "colorbar": {
             "outlinewidth": 0,
             "ticks": ""
            },
            "colorscale": [
             [
              0,
              "#0d0887"
             ],
             [
              0.1111111111111111,
              "#46039f"
             ],
             [
              0.2222222222222222,
              "#7201a8"
             ],
             [
              0.3333333333333333,
              "#9c179e"
             ],
             [
              0.4444444444444444,
              "#bd3786"
             ],
             [
              0.5555555555555556,
              "#d8576b"
             ],
             [
              0.6666666666666666,
              "#ed7953"
             ],
             [
              0.7777777777777778,
              "#fb9f3a"
             ],
             [
              0.8888888888888888,
              "#fdca26"
             ],
             [
              1,
              "#f0f921"
             ]
            ],
            "type": "heatmapgl"
           }
          ],
          "histogram": [
           {
            "marker": {
             "pattern": {
              "fillmode": "overlay",
              "size": 10,
              "solidity": 0.2
             }
            },
            "type": "histogram"
           }
          ],
          "histogram2d": [
           {
            "colorbar": {
             "outlinewidth": 0,
             "ticks": ""
            },
            "colorscale": [
             [
              0,
              "#0d0887"
             ],
             [
              0.1111111111111111,
              "#46039f"
             ],
             [
              0.2222222222222222,
              "#7201a8"
             ],
             [
              0.3333333333333333,
              "#9c179e"
             ],
             [
              0.4444444444444444,
              "#bd3786"
             ],
             [
              0.5555555555555556,
              "#d8576b"
             ],
             [
              0.6666666666666666,
              "#ed7953"
             ],
             [
              0.7777777777777778,
              "#fb9f3a"
             ],
             [
              0.8888888888888888,
              "#fdca26"
             ],
             [
              1,
              "#f0f921"
             ]
            ],
            "type": "histogram2d"
           }
          ],
          "histogram2dcontour": [
           {
            "colorbar": {
             "outlinewidth": 0,
             "ticks": ""
            },
            "colorscale": [
             [
              0,
              "#0d0887"
             ],
             [
              0.1111111111111111,
              "#46039f"
             ],
             [
              0.2222222222222222,
              "#7201a8"
             ],
             [
              0.3333333333333333,
              "#9c179e"
             ],
             [
              0.4444444444444444,
              "#bd3786"
             ],
             [
              0.5555555555555556,
              "#d8576b"
             ],
             [
              0.6666666666666666,
              "#ed7953"
             ],
             [
              0.7777777777777778,
              "#fb9f3a"
             ],
             [
              0.8888888888888888,
              "#fdca26"
             ],
             [
              1,
              "#f0f921"
             ]
            ],
            "type": "histogram2dcontour"
           }
          ],
          "mesh3d": [
           {
            "colorbar": {
             "outlinewidth": 0,
             "ticks": ""
            },
            "type": "mesh3d"
           }
          ],
          "parcoords": [
           {
            "line": {
             "colorbar": {
              "outlinewidth": 0,
              "ticks": ""
             }
            },
            "type": "parcoords"
           }
          ],
          "pie": [
           {
            "automargin": true,
            "type": "pie"
           }
          ],
          "scatter": [
           {
            "fillpattern": {
             "fillmode": "overlay",
             "size": 10,
             "solidity": 0.2
            },
            "type": "scatter"
           }
          ],
          "scatter3d": [
           {
            "line": {
             "colorbar": {
              "outlinewidth": 0,
              "ticks": ""
             }
            },
            "marker": {
             "colorbar": {
              "outlinewidth": 0,
              "ticks": ""
             }
            },
            "type": "scatter3d"
           }
          ],
          "scattercarpet": [
           {
            "marker": {
             "colorbar": {
              "outlinewidth": 0,
              "ticks": ""
             }
            },
            "type": "scattercarpet"
           }
          ],
          "scattergeo": [
           {
            "marker": {
             "colorbar": {
              "outlinewidth": 0,
              "ticks": ""
             }
            },
            "type": "scattergeo"
           }
          ],
          "scattergl": [
           {
            "marker": {
             "colorbar": {
              "outlinewidth": 0,
              "ticks": ""
             }
            },
            "type": "scattergl"
           }
          ],
          "scattermapbox": [
           {
            "marker": {
             "colorbar": {
              "outlinewidth": 0,
              "ticks": ""
             }
            },
            "type": "scattermapbox"
           }
          ],
          "scatterpolar": [
           {
            "marker": {
             "colorbar": {
              "outlinewidth": 0,
              "ticks": ""
             }
            },
            "type": "scatterpolar"
           }
          ],
          "scatterpolargl": [
           {
            "marker": {
             "colorbar": {
              "outlinewidth": 0,
              "ticks": ""
             }
            },
            "type": "scatterpolargl"
           }
          ],
          "scatterternary": [
           {
            "marker": {
             "colorbar": {
              "outlinewidth": 0,
              "ticks": ""
             }
            },
            "type": "scatterternary"
           }
          ],
          "surface": [
           {
            "colorbar": {
             "outlinewidth": 0,
             "ticks": ""
            },
            "colorscale": [
             [
              0,
              "#0d0887"
             ],
             [
              0.1111111111111111,
              "#46039f"
             ],
             [
              0.2222222222222222,
              "#7201a8"
             ],
             [
              0.3333333333333333,
              "#9c179e"
             ],
             [
              0.4444444444444444,
              "#bd3786"
             ],
             [
              0.5555555555555556,
              "#d8576b"
             ],
             [
              0.6666666666666666,
              "#ed7953"
             ],
             [
              0.7777777777777778,
              "#fb9f3a"
             ],
             [
              0.8888888888888888,
              "#fdca26"
             ],
             [
              1,
              "#f0f921"
             ]
            ],
            "type": "surface"
           }
          ],
          "table": [
           {
            "cells": {
             "fill": {
              "color": "#EBF0F8"
             },
             "line": {
              "color": "white"
             }
            },
            "header": {
             "fill": {
              "color": "#C8D4E3"
             },
             "line": {
              "color": "white"
             }
            },
            "type": "table"
           }
          ]
         },
         "layout": {
          "annotationdefaults": {
           "arrowcolor": "#2a3f5f",
           "arrowhead": 0,
           "arrowwidth": 1
          },
          "autotypenumbers": "strict",
          "coloraxis": {
           "colorbar": {
            "outlinewidth": 0,
            "ticks": ""
           }
          },
          "colorscale": {
           "diverging": [
            [
             0,
             "#8e0152"
            ],
            [
             0.1,
             "#c51b7d"
            ],
            [
             0.2,
             "#de77ae"
            ],
            [
             0.3,
             "#f1b6da"
            ],
            [
             0.4,
             "#fde0ef"
            ],
            [
             0.5,
             "#f7f7f7"
            ],
            [
             0.6,
             "#e6f5d0"
            ],
            [
             0.7,
             "#b8e186"
            ],
            [
             0.8,
             "#7fbc41"
            ],
            [
             0.9,
             "#4d9221"
            ],
            [
             1,
             "#276419"
            ]
           ],
           "sequential": [
            [
             0,
             "#0d0887"
            ],
            [
             0.1111111111111111,
             "#46039f"
            ],
            [
             0.2222222222222222,
             "#7201a8"
            ],
            [
             0.3333333333333333,
             "#9c179e"
            ],
            [
             0.4444444444444444,
             "#bd3786"
            ],
            [
             0.5555555555555556,
             "#d8576b"
            ],
            [
             0.6666666666666666,
             "#ed7953"
            ],
            [
             0.7777777777777778,
             "#fb9f3a"
            ],
            [
             0.8888888888888888,
             "#fdca26"
            ],
            [
             1,
             "#f0f921"
            ]
           ],
           "sequentialminus": [
            [
             0,
             "#0d0887"
            ],
            [
             0.1111111111111111,
             "#46039f"
            ],
            [
             0.2222222222222222,
             "#7201a8"
            ],
            [
             0.3333333333333333,
             "#9c179e"
            ],
            [
             0.4444444444444444,
             "#bd3786"
            ],
            [
             0.5555555555555556,
             "#d8576b"
            ],
            [
             0.6666666666666666,
             "#ed7953"
            ],
            [
             0.7777777777777778,
             "#fb9f3a"
            ],
            [
             0.8888888888888888,
             "#fdca26"
            ],
            [
             1,
             "#f0f921"
            ]
           ]
          },
          "colorway": [
           "#636efa",
           "#EF553B",
           "#00cc96",
           "#ab63fa",
           "#FFA15A",
           "#19d3f3",
           "#FF6692",
           "#B6E880",
           "#FF97FF",
           "#FECB52"
          ],
          "font": {
           "color": "#2a3f5f"
          },
          "geo": {
           "bgcolor": "white",
           "lakecolor": "white",
           "landcolor": "#E5ECF6",
           "showlakes": true,
           "showland": true,
           "subunitcolor": "white"
          },
          "hoverlabel": {
           "align": "left"
          },
          "hovermode": "closest",
          "mapbox": {
           "style": "light"
          },
          "paper_bgcolor": "white",
          "plot_bgcolor": "#E5ECF6",
          "polar": {
           "angularaxis": {
            "gridcolor": "white",
            "linecolor": "white",
            "ticks": ""
           },
           "bgcolor": "#E5ECF6",
           "radialaxis": {
            "gridcolor": "white",
            "linecolor": "white",
            "ticks": ""
           }
          },
          "scene": {
           "xaxis": {
            "backgroundcolor": "#E5ECF6",
            "gridcolor": "white",
            "gridwidth": 2,
            "linecolor": "white",
            "showbackground": true,
            "ticks": "",
            "zerolinecolor": "white"
           },
           "yaxis": {
            "backgroundcolor": "#E5ECF6",
            "gridcolor": "white",
            "gridwidth": 2,
            "linecolor": "white",
            "showbackground": true,
            "ticks": "",
            "zerolinecolor": "white"
           },
           "zaxis": {
            "backgroundcolor": "#E5ECF6",
            "gridcolor": "white",
            "gridwidth": 2,
            "linecolor": "white",
            "showbackground": true,
            "ticks": "",
            "zerolinecolor": "white"
           }
          },
          "shapedefaults": {
           "line": {
            "color": "#2a3f5f"
           }
          },
          "ternary": {
           "aaxis": {
            "gridcolor": "white",
            "linecolor": "white",
            "ticks": ""
           },
           "baxis": {
            "gridcolor": "white",
            "linecolor": "white",
            "ticks": ""
           },
           "bgcolor": "#E5ECF6",
           "caxis": {
            "gridcolor": "white",
            "linecolor": "white",
            "ticks": ""
           }
          },
          "title": {
           "x": 0.05
          },
          "xaxis": {
           "automargin": true,
           "gridcolor": "white",
           "linecolor": "white",
           "ticks": "",
           "title": {
            "standoff": 15
           },
           "zerolinecolor": "white",
           "zerolinewidth": 2
          },
          "yaxis": {
           "automargin": true,
           "gridcolor": "white",
           "linecolor": "white",
           "ticks": "",
           "title": {
            "standoff": 15
           },
           "zerolinecolor": "white",
           "zerolinewidth": 2
          }
         }
        },
        "title": {
         "text": "Feature Mean Values For Alzheimer Prediction"
        },
        "xaxis": {
         "anchor": "y",
         "autorange": true,
         "categoryarray": [
          "Age",
          "Gender",
          "Education Level",
          "Physical Activity Level",
          "Smoking Status",
          "Alcohol Consumption",
          "Diabetes",
          "Hypertension",
          "Cholesterol Level",
          "Family History of Alzheimer’s",
          "Cognitive Test Score",
          "Depression Level",
          "Sleep Quality",
          "Dietary Habits",
          "Air Pollution Exposure",
          "Genetic Risk Factor (APOE-ε4 allele)",
          "Social Engagement Level",
          "Stress Levels"
         ],
         "categoryorder": "array",
         "domain": [
          0,
          1
         ],
         "range": [
          -0.5,
          17.5
         ],
         "title": {
          "text": "Feature"
         },
         "type": "category"
        },
        "yaxis": {
         "anchor": "x",
         "autorange": true,
         "domain": [
          0,
          1
         ],
         "range": [
          0,
          36.47814864490494
         ],
         "title": {
          "text": "Average Value"
         },
         "type": "linear"
        }
       }
      },
      "image/png": "[encoded data removed]",
      "text/html": [
       "<div>                            <div id=\"a30652ac-ea4f-4f16-a684-51b196249751\" class=\"plotly-graph-div\" style=\"height:525px; width:100%;\"></div>            <script type=\"text/javascript\">                require([\"plotly\"], function(Plotly) {                    window.PLOTLYENV=window.PLOTLYENV || {};                                    if (document.getElementById(\"a30652ac-ea4f-4f16-a684-51b196249751\")) {                    Plotly.newPlot(                        \"a30652ac-ea4f-4f16-a684-51b196249751\",                        [{\"alignmentgroup\":\"True\",\"hovertemplate\":\"Feature=%{x}\\u003cbr\\u003eAverage Value=%{y}\\u003cextra\\u003e\\u003c\\u002fextra\\u003e\",\"legendgroup\":\"Age\",\"marker\":{\"color\":\"#636efa\",\"pattern\":{\"shape\":\"\"}},\"name\":\"Age\",\"offsetgroup\":\"Age\",\"orientation\":\"v\",\"showlegend\":true,\"textposition\":\"auto\",\"x\":[\"Age\"],\"xaxis\":\"x\",\"y\":[21.964702556439562],\"yaxis\":\"y\",\"type\":\"bar\"},{\"alignmentgroup\":\"True\",\"hovertemplate\":\"Feature=%{x}\\u003cbr\\u003eAverage Value=%{y}\\u003cextra\\u003e\\u003c\\u002fextra\\u003e\",\"legendgroup\":\"Gender\",\"marker\":{\"color\":\"#EF553B\",\"pattern\":{\"shape\":\"\"}},\"name\":\"Gender\",\"offsetgroup\":\"Gender\",\"orientation\":\"v\",\"showlegend\":true,\"textposition\":\"auto\",\"x\":[\"Gender\"],\"xaxis\":\"x\",\"y\":[0.49855283173808274],\"yaxis\":\"y\",\"type\":\"bar\"},{\"alignmentgroup\":\"True\",\"hovertemplate\":\"Feature=%{x}\\u003cbr\\u003eAverage Value=%{y}\\u003cextra\\u003e\\u003c\\u002fextra\\u003e\",\"legendgroup\":\"Education Level\",\"marker\":{\"color\":\"#00cc96\",\"pattern\":{\"shape\":\"\"}},\"name\":\"Education Level\",\"offsetgroup\":\"Education Level\",\"orientation\":\"v\",\"showlegend\":true,\"textposition\":\"auto\",\"x\":[\"Education Level\"],\"xaxis\":\"x\",\"y\":[9.487513966856481],\"yaxis\":\"y\",\"type\":\"bar\"},{\"alignmentgroup\":\"True\",\"hovertemplate\":\"Feature=%{x}\\u003cbr\\u003eAverage Value=%{y}\\u003cextra\\u003e\\u003c\\u002fextra\\u003e\",\"legendgroup\":\"Physical Activity Level\",\"marker\":{\"color\":\"#ab63fa\",\"pattern\":{\"shape\":\"\"}},\"name\":\"Physical Activity Level\",\"offsetgroup\":\"Physical Activity Level\",\"orientation\":\"v\",\"showlegend\":true,\"textposition\":\"auto\",\"x\":[\"Physical Activity Level\"],\"xaxis\":\"x\",\"y\":[0.9976172206292153],\"yaxis\":\"y\",\"type\":\"bar\"},{\"alignmentgroup\":\"True\",\"hovertemplate\":\"Feature=%{x}\\u003cbr\\u003eAverage Value=%{y}\\u003cextra\\u003e\\u003c\\u002fextra\\u003e\",\"legendgroup\":\"Smoking Status\",\"marker\":{\"color\":\"#FFA15A\",\"pattern\":{\"shape\":\"\"}},\"name\":\"Smoking Status\",\"offsetgroup\":\"Smoking Status\",\"orientation\":\"v\",\"showlegend\":true,\"textposition\":\"auto\",\"x\":[\"Smoking Status\"],\"xaxis\":\"x\",\"y\":[0.9976441446899021],\"yaxis\":\"y\",\"type\":\"bar\"},{\"alignmentgroup\":\"True\",\"hovertemplate\":\"Feature=%{x}\\u003cbr\\u003eAverage Value=%{y}\\u003cextra\\u003e\\u003c\\u002fextra\\u003e\",\"legendgroup\":\"Alcohol Consumption\",\"marker\":{\"color\":\"#19d3f3\",\"pattern\":{\"shape\":\"\"}},\"name\":\"Alcohol Consumption\",\"offsetgroup\":\"Alcohol Consumption\",\"orientation\":\"v\",\"showlegend\":true,\"textposition\":\"auto\",\"x\":[\"Alcohol Consumption\"],\"xaxis\":\"x\",\"y\":[0.9982903221463861],\"yaxis\":\"y\",\"type\":\"bar\"},{\"alignmentgroup\":\"True\",\"hovertemplate\":\"Feature=%{x}\\u003cbr\\u003eAverage Value=%{y}\\u003cextra\\u003e\\u003c\\u002fextra\\u003e\",\"legendgroup\":\"Diabetes\",\"marker\":{\"color\":\"#FF6692\",\"pattern\":{\"shape\":\"\"}},\"name\":\"Diabetes\",\"offsetgroup\":\"Diabetes\",\"orientation\":\"v\",\"showlegend\":true,\"textposition\":\"auto\",\"x\":[\"Diabetes\"],\"xaxis\":\"x\",\"y\":[0.0],\"yaxis\":\"y\",\"type\":\"bar\"},{\"alignmentgroup\":\"True\",\"hovertemplate\":\"Feature=%{x}\\u003cbr\\u003eAverage Value=%{y}\\u003cextra\\u003e\\u003c\\u002fextra\\u003e\",\"legendgroup\":\"Hypertension\",\"marker\":{\"color\":\"#B6E880\",\"pattern\":{\"shape\":\"\"}},\"name\":\"Hypertension\",\"offsetgroup\":\"Hypertension\",\"orientation\":\"v\",\"showlegend\":true,\"textposition\":\"auto\",\"x\":[\"Hypertension\"],\"xaxis\":\"x\",\"y\":[0.2981705100763297],\"yaxis\":\"y\",\"type\":\"bar\"},{\"alignmentgroup\":\"True\",\"hovertemplate\":\"Feature=%{x}\\u003cbr\\u003eAverage Value=%{y}\\u003cextra\\u003e\\u003c\\u002fextra\\u003e\",\"legendgroup\":\"Cholesterol Level\",\"marker\":{\"color\":\"#FF97FF\",\"pattern\":{\"shape\":\"\"}},\"name\":\"Cholesterol Level\",\"offsetgroup\":\"Cholesterol Level\",\"orientation\":\"v\",\"showlegend\":true,\"textposition\":\"auto\",\"x\":[\"Cholesterol Level\"],\"xaxis\":\"x\",\"y\":[0.6996621030383803],\"yaxis\":\"y\",\"type\":\"bar\"},{\"alignmentgroup\":\"True\",\"hovertemplate\":\"Feature=%{x}\\u003cbr\\u003eAverage Value=%{y}\\u003cextra\\u003e\\u003c\\u002fextra\\u003e\",\"legendgroup\":\"Family History of Alzheimer\\u2019s\",\"marker\":{\"color\":\"#FECB52\",\"pattern\":{\"shape\":\"\"}},\"name\":\"Family History of Alzheimer\\u2019s\",\"offsetgroup\":\"Family History of Alzheimer\\u2019s\",\"orientation\":\"v\",\"showlegend\":true,\"textposition\":\"auto\",\"x\":[\"Family History of Alzheimer\\u2019s\"],\"xaxis\":\"x\",\"y\":[0.29992057402097383],\"yaxis\":\"y\",\"type\":\"bar\"},{\"alignmentgroup\":\"True\",\"hovertemplate\":\"Feature=%{x}\\u003cbr\\u003eAverage Value=%{y}\\u003cextra\\u003e\\u003c\\u002fextra\\u003e\",\"legendgroup\":\"Cognitive Test Score\",\"marker\":{\"color\":\"#636efa\",\"pattern\":{\"shape\":\"\"}},\"name\":\"Cognitive Test Score\",\"offsetgroup\":\"Cognitive Test Score\",\"orientation\":\"v\",\"showlegend\":true,\"textposition\":\"auto\",\"x\":[\"Cognitive Test Score\"],\"xaxis\":\"x\",\"y\":[34.65424121265969],\"yaxis\":\"y\",\"type\":\"bar\"},{\"alignmentgroup\":\"True\",\"hovertemplate\":\"Feature=%{x}\\u003cbr\\u003eAverage Value=%{y}\\u003cextra\\u003e\\u003c\\u002fextra\\u003e\",\"legendgroup\":\"Depression Level\",\"marker\":{\"color\":\"#EF553B\",\"pattern\":{\"shape\":\"\"}},\"name\":\"Depression Level\",\"offsetgroup\":\"Depression Level\",\"orientation\":\"v\",\"showlegend\":true,\"textposition\":\"auto\",\"x\":[\"Depression Level\"],\"xaxis\":\"x\",\"y\":[1.00216738688529],\"yaxis\":\"y\",\"type\":\"bar\"},{\"alignmentgroup\":\"True\",\"hovertemplate\":\"Feature=%{x}\\u003cbr\\u003eAverage Value=%{y}\\u003cextra\\u003e\\u003c\\u002fextra\\u003e\",\"legendgroup\":\"Sleep Quality\",\"marker\":{\"color\":\"#00cc96\",\"pattern\":{\"shape\":\"\"}},\"name\":\"Sleep Quality\",\"offsetgroup\":\"Sleep Quality\",\"orientation\":\"v\",\"showlegend\":true,\"textposition\":\"auto\",\"x\":[\"Sleep Quality\"],\"xaxis\":\"x\",\"y\":[0.9960690871397224],\"yaxis\":\"y\",\"type\":\"bar\"},{\"alignmentgroup\":\"True\",\"hovertemplate\":\"Feature=%{x}\\u003cbr\\u003eAverage Value=%{y}\\u003cextra\\u003e\\u003c\\u002fextra\\u003e\",\"legendgroup\":\"Dietary Habits\",\"marker\":{\"color\":\"#ab63fa\",\"pattern\":{\"shape\":\"\"}},\"name\":\"Dietary Habits\",\"offsetgroup\":\"Dietary Habits\",\"orientation\":\"v\",\"showlegend\":true,\"textposition\":\"auto\",\"x\":[\"Dietary Habits\"],\"xaxis\":\"x\",\"y\":[0.9967825747479235],\"yaxis\":\"y\",\"type\":\"bar\"},{\"alignmentgroup\":\"True\",\"hovertemplate\":\"Feature=%{x}\\u003cbr\\u003eAverage Value=%{y}\\u003cextra\\u003e\\u003c\\u002fextra\\u003e\",\"legendgroup\":\"Air Pollution Exposure\",\"marker\":{\"color\":\"#FFA15A\",\"pattern\":{\"shape\":\"\"}},\"name\":\"Air Pollution Exposure\",\"offsetgroup\":\"Air Pollution Exposure\",\"orientation\":\"v\",\"showlegend\":true,\"textposition\":\"auto\",\"x\":[\"Air Pollution Exposure\"],\"xaxis\":\"x\",\"y\":[0.997509524386468],\"yaxis\":\"y\",\"type\":\"bar\"},{\"alignmentgroup\":\"True\",\"hovertemplate\":\"Feature=%{x}\\u003cbr\\u003eAverage Value=%{y}\\u003cextra\\u003e\\u003c\\u002fextra\\u003e\",\"legendgroup\":\"Genetic Risk Factor (APOE-\\u03b54 allele)\",\"marker\":{\"color\":\"#19d3f3\",\"pattern\":{\"shape\":\"\"}},\"name\":\"Genetic Risk Factor (APOE-\\u03b54 allele)\",\"offsetgroup\":\"Genetic Risk Factor (APOE-\\u03b54 allele)\",\"orientation\":\"v\",\"showlegend\":true,\"textposition\":\"auto\",\"x\":[\"Genetic Risk Factor (APOE-\\u03b54 allele)\"],\"xaxis\":\"x\",\"y\":[0.0],\"yaxis\":\"y\",\"type\":\"bar\"},{\"alignmentgroup\":\"True\",\"hovertemplate\":\"Feature=%{x}\\u003cbr\\u003eAverage Value=%{y}\\u003cextra\\u003e\\u003c\\u002fextra\\u003e\",\"legendgroup\":\"Social Engagement Level\",\"marker\":{\"color\":\"#FF6692\",\"pattern\":{\"shape\":\"\"}},\"name\":\"Social Engagement Level\",\"offsetgroup\":\"Social Engagement Level\",\"orientation\":\"v\",\"showlegend\":true,\"textposition\":\"auto\",\"x\":[\"Social Engagement Level\"],\"xaxis\":\"x\",\"y\":[1.0021808489156334],\"yaxis\":\"y\",\"type\":\"bar\"},{\"alignmentgroup\":\"True\",\"hovertemplate\":\"Feature=%{x}\\u003cbr\\u003eAverage Value=%{y}\\u003cextra\\u003e\\u003c\\u002fextra\\u003e\",\"legendgroup\":\"Stress Levels\",\"marker\":{\"color\":\"#B6E880\",\"pattern\":{\"shape\":\"\"}},\"name\":\"Stress Levels\",\"offsetgroup\":\"Stress Levels\",\"orientation\":\"v\",\"showlegend\":true,\"textposition\":\"auto\",\"x\":[\"Stress Levels\"],\"xaxis\":\"x\",\"y\":[1.0029481846452082],\"yaxis\":\"y\",\"type\":\"bar\"}],                        {\"template\":{\"data\":{\"histogram2dcontour\":[{\"type\":\"histogram2dcontour\",\"colorbar\":{\"outlinewidth\":0,\"ticks\":\"\"},\"colorscale\":[[0.0,\"#0d0887\"],[0.1111111111111111,\"#46039f\"],[0.2222222222222222,\"#7201a8\"],[0.3333333333333333,\"#9c179e\"],[0.4444444444444444,\"#bd3786\"],[0.5555555555555556,\"#d8576b\"],[0.6666666666666666,\"#ed7953\"],[0.7777777777777778,\"#fb9f3a\"],[0.8888888888888888,\"#fdca26\"],[1.0,\"#f0f921\"]]}],\"choropleth\":[{\"type\":\"choropleth\",\"colorbar\":{\"outlinewidth\":0,\"ticks\":\"\"}}],\"histogram2d\":[{\"type\":\"histogram2d\",\"colorbar\":{\"outlinewidth\":0,\"ticks\":\"\"},\"colorscale\":[[0.0,\"#0d0887\"],[0.1111111111111111,\"#46039f\"],[0.2222222222222222,\"#7201a8\"],[0.3333333333333333,\"#9c179e\"],[0.4444444444444444,\"#bd3786\"],[0.5555555555555556,\"#d8576b\"],[0.6666666666666666,\"#ed7953\"],[0.7777777777777778,\"#fb9f3a\"],[0.8888888888888888,\"#fdca26\"],[1.0,\"#f0f921\"]]}],\"heatmap\":[{\"type\":\"heatmap\",\"colorbar\":{\"outlinewidth\":0,\"ticks\":\"\"},\"colorscale\":[[0.0,\"#0d0887\"],[0.1111111111111111,\"#46039f\"],[0.2222222222222222,\"#7201a8\"],[0.3333333333333333,\"#9c179e\"],[0.4444444444444444,\"#bd3786\"],[0.5555555555555556,\"#d8576b\"],[0.6666666666666666,\"#ed7953\"],[0.7777777777777778,\"#fb9f3a\"],[0.8888888888888888,\"#fdca26\"],[1.0,\"#f0f921\"]]}],\"heatmapgl\":[{\"type\":\"heatmapgl\",\"colorbar\":{\"outlinewidth\":0,\"ticks\":\"\"},\"colorscale\":[[0.0,\"#0d0887\"],[0.1111111111111111,\"#46039f\"],[0.2222222222222222,\"#7201a8\"],[0.3333333333333333,\"#9c179e\"],[0.4444444444444444,\"#bd3786\"],[0.5555555555555556,\"#d8576b\"],[0.6666666666666666,\"#ed7953\"],[0.7777777777777778,\"#fb9f3a\"],[0.8888888888888888,\"#fdca26\"],[1.0,\"#f0f921\"]]}],\"contourcarpet\":[{\"type\":\"contourcarpet\",\"colorbar\":{\"outlinewidth\":0,\"ticks\":\"\"}}],\"contour\":[{\"type\":\"contour\",\"colorbar\":{\"outlinewidth\":0,\"ticks\":\"\"},\"colorscale\":[[0.0,\"#0d0887\"],[0.1111111111111111,\"#46039f\"],[0.2222222222222222,\"#7201a8\"],[0.3333333333333333,\"#9c179e\"],[0.4444444444444444,\"#bd3786\"],[0.5555555555555556,\"#d8576b\"],[0.6666666666666666,\"#ed7953\"],[0.7777777777777778,\"#fb9f3a\"],[0.8888888888888888,\"#fdca26\"],[1.0,\"#f0f921\"]]}],\"surface\":[{\"type\":\"surface\",\"colorbar\":{\"outlinewidth\":0,\"ticks\":\"\"},\"colorscale\":[[0.0,\"#0d0887\"],[0.1111111111111111,\"#46039f\"],[0.2222222222222222,\"#7201a8\"],[0.3333333333333333,\"#9c179e\"],[0.4444444444444444,\"#bd3786\"],[0.5555555555555556,\"#d8576b\"],[0.6666666666666666,\"#ed7953\"],[0.7777777777777778,\"#fb9f3a\"],[0.8888888888888888,\"#fdca26\"],[1.0,\"#f0f921\"]]}],\"mesh3d\":[{\"type\":\"mesh3d\",\"colorbar\":{\"outlinewidth\":0,\"ticks\":\"\"}}],\"scatter\":[{\"fillpattern\":{\"fillmode\":\"overlay\",\"size\":10,\"solidity\":0.2},\"type\":\"scatter\"}],\"parcoords\":[{\"type\":\"parcoords\",\"line\":{\"colorbar\":{\"outlinewidth\":0,\"ticks\":\"\"}}}],\"scatterpolargl\":[{\"type\":\"scatterpolargl\",\"marker\":{\"colorbar\":{\"outlinewidth\":0,\"ticks\":\"\"}}}],\"bar\":[{\"error_x\":{\"color\":\"#2a3f5f\"},\"error_y\":{\"color\":\"#2a3f5f\"},\"marker\":{\"line\":{\"color\":\"#E5ECF6\",\"width\":0.5},\"pattern\":{\"fillmode\":\"overlay\",\"size\":10,\"solidity\":0.2}},\"type\":\"bar\"}],\"scattergeo\":[{\"type\":\"scattergeo\",\"marker\":{\"colorbar\":{\"outlinewidth\":0,\"ticks\":\"\"}}}],\"scatterpolar\":[{\"type\":\"scatterpolar\",\"marker\":{\"colorbar\":{\"outlinewidth\":0,\"ticks\":\"\"}}}],\"histogram\":[{\"marker\":{\"pattern\":{\"fillmode\":\"overlay\",\"size\":10,\"solidity\":0.2}},\"type\":\"histogram\"}],\"scattergl\":[{\"type\":\"scattergl\",\"marker\":{\"colorbar\":{\"outlinewidth\":0,\"ticks\":\"\"}}}],\"scatter3d\":[{\"type\":\"scatter3d\",\"line\":{\"colorbar\":{\"outlinewidth\":0,\"ticks\":\"\"}},\"marker\":{\"colorbar\":{\"outlinewidth\":0,\"ticks\":\"\"}}}],\"scattermapbox\":[{\"type\":\"scattermapbox\",\"marker\":{\"colorbar\":{\"outlinewidth\":0,\"ticks\":\"\"}}}],\"scatterternary\":[{\"type\":\"scatterternary\",\"marker\":{\"colorbar\":{\"outlinewidth\":0,\"ticks\":\"\"}}}],\"scattercarpet\":[{\"type\":\"scattercarpet\",\"marker\":{\"colorbar\":{\"outlinewidth\":0,\"ticks\":\"\"}}}],\"carpet\":[{\"aaxis\":{\"endlinecolor\":\"#2a3f5f\",\"gridcolor\":\"white\",\"linecolor\":\"white\",\"minorgridcolor\":\"white\",\"startlinecolor\":\"#2a3f5f\"},\"baxis\":{\"endlinecolor\":\"#2a3f5f\",\"gridcolor\":\"white\",\"linecolor\":\"white\",\"minorgridcolor\":\"white\",\"startlinecolor\":\"#2a3f5f\"},\"type\":\"carpet\"}],\"table\":[{\"cells\":{\"fill\":{\"color\":\"#EBF0F8\"},\"line\":{\"color\":\"white\"}},\"header\":{\"fill\":{\"color\":\"#C8D4E3\"},\"line\":{\"color\":\"white\"}},\"type\":\"table\"}],\"barpolar\":[{\"marker\":{\"line\":{\"color\":\"#E5ECF6\",\"width\":0.5},\"pattern\":{\"fillmode\":\"overlay\",\"size\":10,\"solidity\":0.2}},\"type\":\"barpolar\"}],\"pie\":[{\"automargin\":true,\"type\":\"pie\"}]},\"layout\":{\"autotypenumbers\":\"strict\",\"colorway\":[\"#636efa\",\"#EF553B\",\"#00cc96\",\"#ab63fa\",\"#FFA15A\",\"#19d3f3\",\"#FF6692\",\"#B6E880\",\"#FF97FF\",\"#FECB52\"],\"font\":{\"color\":\"#2a3f5f\"},\"hovermode\":\"closest\",\"hoverlabel\":{\"align\":\"left\"},\"paper_bgcolor\":\"white\",\"plot_bgcolor\":\"#E5ECF6\",\"polar\":{\"bgcolor\":\"#E5ECF6\",\"angularaxis\":{\"gridcolor\":\"white\",\"linecolor\":\"white\",\"ticks\":\"\"},\"radialaxis\":{\"gridcolor\":\"white\",\"linecolor\":\"white\",\"ticks\":\"\"}},\"ternary\":{\"bgcolor\":\"#E5ECF6\",\"aaxis\":{\"gridcolor\":\"white\",\"linecolor\":\"white\",\"ticks\":\"\"},\"baxis\":{\"gridcolor\":\"white\",\"linecolor\":\"white\",\"ticks\":\"\"},\"caxis\":{\"gridcolor\":\"white\",\"linecolor\":\"white\",\"ticks\":\"\"}},\"coloraxis\":{\"colorbar\":{\"outlinewidth\":0,\"ticks\":\"\"}},\"colorscale\":{\"sequential\":[[0.0,\"#0d0887\"],[0.1111111111111111,\"#46039f\"],[0.2222222222222222,\"#7201a8\"],[0.3333333333333333,\"#9c179e\"],[0.4444444444444444,\"#bd3786\"],[0.5555555555555556,\"#d8576b\"],[0.6666666666666666,\"#ed7953\"],[0.7777777777777778,\"#fb9f3a\"],[0.8888888888888888,\"#fdca26\"],[1.0,\"#f0f921\"]],\"sequentialminus\":[[0.0,\"#0d0887\"],[0.1111111111111111,\"#46039f\"],[0.2222222222222222,\"#7201a8\"],[0.3333333333333333,\"#9c179e\"],[0.4444444444444444,\"#bd3786\"],[0.5555555555555556,\"#d8576b\"],[0.6666666666666666,\"#ed7953\"],[0.7777777777777778,\"#fb9f3a\"],[0.8888888888888888,\"#fdca26\"],[1.0,\"#f0f921\"]],\"diverging\":[[0,\"#8e0152\"],[0.1,\"#c51b7d\"],[0.2,\"#de77ae\"],[0.3,\"#f1b6da\"],[0.4,\"#fde0ef\"],[0.5,\"#f7f7f7\"],[0.6,\"#e6f5d0\"],[0.7,\"#b8e186\"],[0.8,\"#7fbc41\"],[0.9,\"#4d9221\"],[1,\"#276419\"]]},\"xaxis\":{\"gridcolor\":\"white\",\"linecolor\":\"white\",\"ticks\":\"\",\"title\":{\"standoff\":15},\"zerolinecolor\":\"white\",\"automargin\":true,\"zerolinewidth\":2},\"yaxis\":{\"gridcolor\":\"white\",\"linecolor\":\"white\",\"ticks\":\"\",\"title\":{\"standoff\":15},\"zerolinecolor\":\"white\",\"automargin\":true,\"zerolinewidth\":2},\"scene\":{\"xaxis\":{\"backgroundcolor\":\"#E5ECF6\",\"gridcolor\":\"white\",\"linecolor\":\"white\",\"showbackground\":true,\"ticks\":\"\",\"zerolinecolor\":\"white\",\"gridwidth\":2},\"yaxis\":{\"backgroundcolor\":\"#E5ECF6\",\"gridcolor\":\"white\",\"linecolor\":\"white\",\"showbackground\":true,\"ticks\":\"\",\"zerolinecolor\":\"white\",\"gridwidth\":2},\"zaxis\":{\"backgroundcolor\":\"#E5ECF6\",\"gridcolor\":\"white\",\"linecolor\":\"white\",\"showbackground\":true,\"ticks\":\"\",\"zerolinecolor\":\"white\",\"gridwidth\":2}},\"shapedefaults\":{\"line\":{\"color\":\"#2a3f5f\"}},\"annotationdefaults\":{\"arrowcolor\":\"#2a3f5f\",\"arrowhead\":0,\"arrowwidth\":1},\"geo\":{\"bgcolor\":\"white\",\"landcolor\":\"#E5ECF6\",\"subunitcolor\":\"white\",\"showland\":true,\"showlakes\":true,\"lakecolor\":\"white\"},\"title\":{\"x\":0.05},\"mapbox\":{\"style\":\"light\"}}},\"xaxis\":{\"anchor\":\"y\",\"domain\":[0.0,1.0],\"title\":{\"text\":\"Feature\"},\"categoryorder\":\"array\",\"categoryarray\":[\"Age\",\"Gender\",\"Education Level\",\"Physical Activity Level\",\"Smoking Status\",\"Alcohol Consumption\",\"Diabetes\",\"Hypertension\",\"Cholesterol Level\",\"Family History of Alzheimer\\u2019s\",\"Cognitive Test Score\",\"Depression Level\",\"Sleep Quality\",\"Dietary Habits\",\"Air Pollution Exposure\",\"Genetic Risk Factor (APOE-\\u03b54 allele)\",\"Social Engagement Level\",\"Stress Levels\"]},\"yaxis\":{\"anchor\":\"x\",\"domain\":[0.0,1.0],\"title\":{\"text\":\"Average Value\"}},\"legend\":{\"title\":{\"text\":\"Feature\"},\"tracegroupgap\":0},\"title\":{\"text\":\"Feature Mean Values For Alzheimer Prediction\"},\"barmode\":\"relative\"},                        {\"responsive\": true}                    ).then(function(){\n",
       "                            \n",
       "var gd = document.getElementById('a30652ac-ea4f-4f16-a684-51b196249751');\n",
       "var x = new MutationObserver(function (mutations, observer) {{\n",
       "        var display = window.getComputedStyle(gd).display;\n",
       "        if (!display || display === 'none') {{\n",
       "            console.log([gd, 'removed!']);\n",
       "            Plotly.purge(gd);\n",
       "            observer.disconnect();\n",
       "        }}\n",
       "}});\n",
       "\n",
       "// Listen for the removal of the full notebook cells\n",
       "var notebookContainer = gd.closest('#notebook-container');\n",
       "if (notebookContainer) {{\n",
       "    x.observe(notebookContainer, {childList: true});\n",
       "}}\n",
       "\n",
       "// Listen for the clearing of the current output cell\n",
       "var outputEl = gd.closest('.output');\n",
       "if (outputEl) {{\n",
       "    x.observe(outputEl, {childList: true});\n",
       "}}\n",
       "\n",
       "                        })                };                });            </script>        </div>"
      ]
     },
     "metadata": {},
     "output_type": "display_data"
    }
   ],
   "source": [
    "import plotly.express as px\n",
    "\n",
    "feature_means = df_cleaned.drop(columns=['Alzheimer’s Diagnosis']).mean().reset_index()\n",
    "feature_means.columns = ['Feature', 'Mean Value']\n",
    "fig = px.bar(feature_means, x='Feature', y='Mean Value', title='Feature Mean Values For Alzheimer Prediction',\n",
    "             labels={'Mean Value': 'Average Value'}, color='Feature')\n",
    "fig.show()\n"
   ]
  },
  {
   "cell_type": "code",
   "execution_count": 32,
   "id": "9e99a5ce-f727-459b-a4a2-19e83eda1a96",
   "metadata": {},
   "outputs": [
    {
     "name": "stdout",
     "output_type": "stream",
     "text": [
      "Training data shape: (59426, 18)\n",
      "Testing data shape: (14857, 18)\n"
     ]
    }
   ],
   "source": [
    "print(\"Training data shape:\", X_train.shape)\n",
    "print(\"Testing data shape:\", X_test.shape)"
   ]
  },
  {
   "cell_type": "markdown",
   "id": "b3b51187-3faa-4f35-9022-b5b9be0393f0",
   "metadata": {},
   "source": [
    "Moldel training for SVC"
   ]
  },
  {
   "cell_type": "code",
   "execution_count": 36,
   "id": "41f08d44-4fc1-43f8-99ac-c0e4b0806971",
   "metadata": {},
   "outputs": [
    {
     "name": "stdout",
     "output_type": "stream",
     "text": [
      "SVC()\n"
     ]
    }
   ],
   "source": [
    "model_svc = SVC(kernel='rbf', C=1.0, gamma='scale')  \n",
    "model_svc.fit(X_train, y_train)\n",
    "print(model_svc)"
   ]
  },
  {
   "cell_type": "code",
   "execution_count": null,
   "id": "d8eb55bc-6468-46a8-b3d0-d2b04631f53a",
   "metadata": {},
   "outputs": [],
   "source": []
  },
  {
   "cell_type": "code",
   "execution_count": null,
   "id": "42c74251-6340-4fee-874a-06803035f556",
   "metadata": {},
   "outputs": [],
   "source": []
  },
  {
   "cell_type": "code",
   "execution_count": null,
   "id": "db4e9025-c133-4dcc-a08b-91eb84c0ff9e",
   "metadata": {},
   "outputs": [],
   "source": []
  },
  {
   "cell_type": "markdown",
   "id": "737fafb9-c74e-4630-a582-4a8a19d2d17b",
   "metadata": {},
   "source": [
    "Store the file with the help of pickel "
   ]
  },
  {
   "cell_type": "code",
   "execution_count": 37,
   "id": "429a1c3e-2458-4491-abb1-f07d59686e16",
   "metadata": {},
   "outputs": [],
   "source": [
    "pickle.dump(model_svc, open('model_svc.pkl', 'wb'))\n"
   ]
  },
  {
   "cell_type": "code",
   "execution_count": 38,
   "id": "e2e29305-b3fe-41bf-b349-be5deb2ab88a",
   "metadata": {},
   "outputs": [],
   "source": [
    "model_svc = pickle.load(open('model_svc.pkl', 'rb'))"
   ]
  },
  {
   "cell_type": "code",
   "execution_count": 39,
   "id": "934686fe-afb2-4e8f-a565-90440d1a7bf1",
   "metadata": {},
   "outputs": [],
   "source": [
    "model_predictions = model_svc.predict(X_test)"
   ]
  },
  {
   "cell_type": "markdown",
   "id": "15392292-ae6b-42eb-96bd-38cd1a0b3ed2",
   "metadata": {},
   "source": [
    "Accuracy of model and report of it"
   ]
  },
  {
   "cell_type": "code",
   "execution_count": 43,
   "id": "211497e4-f38b-4607-8d1a-5d57c99e769d",
   "metadata": {},
   "outputs": [
    {
     "name": "stdout",
     "output_type": "stream",
     "text": [
      "Model Accuracy: 71.94%\n"
     ]
    }
   ],
   "source": [
    "from sklearn.metrics import classification_report\n",
    "accuracy = accuracy_score(y_test, model_predictions)\n",
    "print(f\"Model Accuracy: {accuracy:.2%}\")\n"
   ]
  },
  {
   "cell_type": "code",
   "execution_count": 42,
   "id": "462fd285-69dc-4054-9826-938e224d746f",
   "metadata": {},
   "outputs": [
    {
     "name": "stdout",
     "output_type": "stream",
     "text": [
      "              precision    recall  f1-score   support\n",
      "\n",
      "           0       0.77      0.75      0.76      8719\n",
      "           1       0.65      0.68      0.67      6138\n",
      "\n",
      "    accuracy                           0.72     14857\n",
      "   macro avg       0.71      0.71      0.71     14857\n",
      "weighted avg       0.72      0.72      0.72     14857\n",
      "\n"
     ]
    }
   ],
   "source": [
    "print(classification_report(y_test, model_predictions))"
   ]
  },
  {
   "cell_type": "markdown",
   "id": "4aa5ae63-559e-4e9a-824a-f09fc7b72407",
   "metadata": {
    "scrolled": true
   },
   "source": [
    "training an other model "
   ]
  },
  {
   "cell_type": "code",
   "execution_count": 44,
   "id": "39f955fa-7247-481e-8397-62909628b759",
   "metadata": {},
   "outputs": [],
   "source": [
    "from sklearn.ensemble import RandomForestClassifier\n",
    "from sklearn.model_selection import train_test_split\n",
    "from sklearn.metrics import accuracy_score, classification_report"
   ]
  },
  {
   "cell_type": "code",
   "execution_count": 45,
   "id": "7ca30951-cb65-45e9-8402-2be8d2716346",
   "metadata": {},
   "outputs": [],
   "source": [
    "X_train, X_test, y_train, y_test = train_test_split(X, y, test_size=0.2, random_state=42)"
   ]
  },
  {
   "cell_type": "code",
   "execution_count": 46,
   "id": "a8b3488d-86d8-47ba-8f15-f42d43cc11a6",
   "metadata": {},
   "outputs": [
    {
     "name": "stdout",
     "output_type": "stream",
     "text": [
      "RandomForestClassifier(random_state=42)\n"
     ]
    }
   ],
   "source": [
    "rf_model = RandomForestClassifier(n_estimators=100, random_state=42)  \n",
    "rf_model.fit(X_train, y_train)\n",
    "print(rf_model)"
   ]
  },
  {
   "cell_type": "code",
   "execution_count": 47,
   "id": "f01683bb-e735-4d4a-ba4f-60cfebdb1c86",
   "metadata": {},
   "outputs": [
    {
     "data": {
      "text/plain": [
       "['random_forest_model.pkl']"
      ]
     },
     "execution_count": 47,
     "metadata": {},
     "output_type": "execute_result"
    }
   ],
   "source": [
    "import joblib  \n",
    "joblib.dump(rf_model, \"random_forest_model.pkl\")  "
   ]
  },
  {
   "cell_type": "code",
   "execution_count": 48,
   "id": "da20ea8e-b86b-4d1f-8455-adfdd3bfb33f",
   "metadata": {},
   "outputs": [],
   "source": [
    "loaded_model = joblib.load(\"random_forest_model.pkl\")"
   ]
  },
  {
   "cell_type": "code",
   "execution_count": 49,
   "id": "ff5265c6-fd02-468e-b954-85fa1994a4f7",
   "metadata": {},
   "outputs": [],
   "source": [
    "new_predictions = loaded_model.predict(X_test)"
   ]
  },
  {
   "cell_type": "code",
   "execution_count": 52,
   "id": "c9084b5e-c36f-487a-89d4-96bf2cbc470f",
   "metadata": {},
   "outputs": [
    {
     "name": "stdout",
     "output_type": "stream",
     "text": [
      "Model Accuracy: 71.94%\n"
     ]
    }
   ],
   "source": [
    "print(f\"Model Accuracy: {accuracy:.2%}\")"
   ]
  },
  {
   "cell_type": "code",
   "execution_count": 53,
   "id": "8628253c-f1b8-4e58-9875-b0f6d5e30870",
   "metadata": {},
   "outputs": [
    {
     "name": "stdout",
     "output_type": "stream",
     "text": [
      "Classification Report:\n",
      "               precision    recall  f1-score   support\n",
      "\n",
      "           0       0.75      0.76      0.76      8719\n",
      "           1       0.65      0.64      0.65      6138\n",
      "\n",
      "    accuracy                           0.71     14857\n",
      "   macro avg       0.70      0.70      0.70     14857\n",
      "weighted avg       0.71      0.71      0.71     14857\n",
      "\n"
     ]
    }
   ],
   "source": [
    "print(\"Classification Report:\\n\", classification_report(y_test, new_predictions))\n"
   ]
  },
  {
   "cell_type": "markdown",
   "id": "9358fcb6-2b5c-447c-a207-f7406765e12e",
   "metadata": {},
   "source": [
    "visualizes the feature importance scores"
   ]
  },
  {
   "cell_type": "code",
   "execution_count": 61,
   "id": "a3cc4e65-115a-4a35-97d0-8928876299ff",
   "metadata": {},
   "outputs": [
    {
     "data": {
      "image/png": "[encoded data removed]",
      "text/plain": [
       "<Figure size 1200x600 with 1 Axes>"
      ]
     },
     "metadata": {},
     "output_type": "display_data"
    }
   ],
   "source": [
    "import matplotlib.pyplot as plt\n",
    "import pandas as pd\n",
    "importances = rf_model.feature_importances_\n",
    "feature_importance_df = pd.DataFrame({'Feature': X.columns, 'Importance': importances})\n",
    "feature_importance_df = feature_importance_df.sort_values(by='Importance', ascending=False)\n",
    "plt.figure(figsize=(12, 6))\n",
    "plt.barh(feature_importance_df['Feature'], feature_importance_df['Importance'], color='skyblue')\n",
    "plt.xlabel(\"Importance Score\")\n",
    "plt.ylabel(\"Features\")\n",
    "plt.title(\"Feature Importance in Random Forest\")\n",
    "plt.gca().invert_yaxis()  \n",
    "plt.show()\n"
   ]
  },
  {
   "cell_type": "markdown",
   "id": "03b92247-b4e9-4b52-b94e-3fd2636d3fcd",
   "metadata": {},
   "source": []
  },
  {
   "cell_type": "markdown",
   "id": "b1ea08fa-fa63-47a9-80fd-99eb533c28c9",
   "metadata": {},
   "source": [
    "evaluating its classification performance.\n",
    "\n"
   ]
  },
  {
   "cell_type": "code",
   "execution_count": 62,
   "id": "becfcfda-eba0-42cc-9fbc-6e92352edc49",
   "metadata": {},
   "outputs": [
    {
     "data": {
      "image/png": "[encoded data removed]",
      "text/plain": [
       "<Figure size 600x400 with 1 Axes>"
      ]
     },
     "metadata": {},
     "output_type": "display_data"
    }
   ],
   "source": [
    "from sklearn.metrics import roc_curve, auc\n",
    "y_probs = rf_model.predict_proba(X_test)[:, 1]\n",
    "fpr, tpr, _ = roc_curve(y_test, y_probs)\n",
    "roc_auc = auc(fpr, tpr)\n",
    "plt.figure(figsize=(6, 4))\n",
    "plt.plot(fpr, tpr, color='blue', label=f'AUC = {roc_auc:.2f}')\n",
    "plt.plot([0, 1], [0, 1], color='gray', linestyle='--')  # Baseline\n",
    "plt.xlabel(\"False Positive Rate\")\n",
    "plt.ylabel(\"True Positive Rate\")\n",
    "plt.title(\"ROC Curve\")\n",
    "plt.legend()\n",
    "plt.show()\n"
   ]
  },
  {
   "cell_type": "code",
   "execution_count": null,
   "id": "809b5148-a887-4ed9-a7d8-cc47f9c83f4b",
   "metadata": {},
   "outputs": [],
   "source": []
  }
 ],
 "metadata": {
  "kernelspec": {
   "display_name": "Python 3 (ipykernel)",
   "language": "python",
   "name": "python3"
  },
  "language_info": {
   "codemirror_mode": {
    "name": "ipython",
    "version": 3
   },
   "file_extension": ".py",
   "mimetype": "text/x-python",
   "name": "python",
   "nbconvert_exporter": "python",
   "pygments_lexer": "ipython3",
   "version": "3.12.7"
  }
 },
 "nbformat": 4,
 "nbformat_minor": 5
}
